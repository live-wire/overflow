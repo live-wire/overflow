{
 "cells": [
  {
   "cell_type": "code",
   "execution_count": 41,
   "metadata": {},
   "outputs": [
    {
     "name": "stderr",
     "output_type": "stream",
     "text": [
      "b'Skipping line 325621: expected 10 fields, saw 23\\n'\n",
      "b'Skipping line 336660: expected 10 fields, saw 74\\nSkipping line 366638: expected 10 fields, saw 19\\n'\n",
      "b'Skipping line 455722: expected 10 fields, saw 11\\n'\n",
      "b'Skipping line 804123: expected 10 fields, saw 19\\n'\n",
      "b'Skipping line 865079: expected 10 fields, saw 12\\nSkipping line 866131: expected 10 fields, saw 15\\n'\n",
      "C:\\Users\\baren\\Anaconda3\\lib\\site-packages\\IPython\\core\\interactiveshell.py:2728: DtypeWarning: Columns (4) have mixed types. Specify dtype option on import or set low_memory=False.\n",
      "  interactivity=interactivity, compiler=compiler, result=result)\n",
      "b'Skipping line 1122646: expected 7 fields, saw 12\\n'\n"
     ]
    }
   ],
   "source": [
    "import re\n",
    "import csv\n",
    "import sys\n",
    "import random\n",
    "import numpy as np\n",
    "import pandas as pd\n",
    "from scipy.interpolate import interp1d\n",
    "import matplotlib.pyplot as plt\n",
    "import seaborn as sns\n",
    "%matplotlib inline\n",
    "\n",
    "\n",
    "# import tables for Java, python and R\n",
    "rUsers= pd.read_csv(\"r_users.csv\")\n",
    "\n",
    "# import tables for Java, python and R\n",
    "rUsers= pd.read_csv(\"r_users.csv\")\n",
    "pythonUsers= pd.read_csv(\"python_users.csv\")\n",
    "javaUsers=pd.read_csv(\"java_users.csv\") \n",
    "\n",
    "javaQuestions = pd.read_csv(\"java_questions.csv\",error_bad_lines=False)\n",
    "pythonQuestions= pd.read_csv(\"python_questions.csv\",error_bad_lines=False)\n",
    "rQuestions= pd.read_csv(\"r_questions.csv\")\n",
    "\n",
    "javaAnswers = pd.read_csv(\"java_answers.csv\",error_bad_lines=False)\n",
    "pythonAnswers = pd.read_csv(\"python_answers.csv\",error_bad_lines=False) \n",
    "rAnswers= pd.read_csv(\"r_answers.csv\")\n",
    "\n"
   ]
  },
  {
   "cell_type": "code",
   "execution_count": 42,
   "metadata": {},
   "outputs": [],
   "source": [
    "def upMetricCreation(table):\n",
    "    answersTable =table.copy()\n",
    "    \n",
    "    answersTable[' AbsSum']= answersTable[' Score'].abs()\n",
    "\n",
    "    # the absolute total score by question\n",
    "    questiondf = answersTable.groupby([' ParentId'])[' AbsSum'].sum()\n",
    "    \n",
    "    questiondf = pd.DataFrame(questiondf)\n",
    "    questiondf= questiondf.reset_index()\n",
    "                \n",
    "    #merge the table of answers and question\n",
    "    answersTable= answersTable.merge(questiondf,left_on=' ParentId',suffixes=('', 'Global'), right_on=' ParentId', how='left')\n",
    "    answersTable   \n",
    "    \n",
    "    # Score relative to the question, multiplied by the signal of the \"individual\" score\n",
    "    answersTable[' RelativeScore'] =  answersTable[' AbsSum'] / answersTable[' AbsSumGlobal']  \n",
    "    \n",
    "    answersTable.loc[answersTable[' Score'] < 0,' RelativeScore'] = - answersTable[' RelativeScore'] \n",
    "    answersTable.loc[answersTable[' Score'] == 0,' RelativeScore'] =0\n",
    "    \n",
    "    # The cum. number of questions answers by user \n",
    "    answersTable['CumSumQuestions'] = answersTable.groupby(' OwnerUserId').cumcount() + 1\n",
    "    \n",
    "    answersTable=answersTable.sort_values([' OwnerUserId',' CreationDate']) #order by user\n",
    "    \n",
    "    answersTable['CumScore'] = answersTable.groupby(' OwnerUserId')[' RelativeScore'].cumsum()\n",
    "    \n",
    "    \n",
    "    answersTable=answersTable.sort_values([' OwnerUserId',' CreationDate']) #order by user\n",
    "    \n",
    "    \n",
    "\n",
    "    answersTable['UpMetric'] = answersTable['CumScore']/answersTable['CumSumQuestions'] \n",
    "    return(answersTable)"
   ]
  },
  {
   "cell_type": "code",
   "execution_count": 43,
   "metadata": {},
   "outputs": [],
   "source": [
    "# UpMetric creation for every language\n",
    "rAnswers = upMetricCreation(rAnswers)\n",
    "pythonAnswers = upMetricCreation(pythonAnswers)\n",
    "javaAnswers = upMetricCreation(javaAnswers)\n"
   ]
  },
  {
   "cell_type": "code",
   "execution_count": null,
   "metadata": {},
   "outputs": [],
   "source": []
  },
  {
   "cell_type": "code",
   "execution_count": 44,
   "metadata": {},
   "outputs": [],
   "source": [
    "def formatCreationDateColumn(table_provided):\n",
    "    table = table_provided.copy()\n",
    "    #Correcting format of dates in the table\n",
    "    table[\" CreationDate\"]=pd.to_datetime(table[\" CreationDate\"],errors=\"coerce\")\n",
    "    \n",
    "    #remove lines which could not be formatted to correct date format\n",
    "    table=table.loc[~table[\" CreationDate\"].isnull()]\n",
    "    \n",
    "    return(table)"
   ]
  },
  {
   "cell_type": "code",
   "execution_count": 45,
   "metadata": {},
   "outputs": [],
   "source": [
    "# format data column for all the tables\n",
    "rAnswers = formatCreationDateColumn(rAnswers)\n",
    "javaAnswers = formatCreationDateColumn(javaAnswers)\n",
    "pythonAnswers = formatCreationDateColumn(pythonAnswers)\n",
    "\n",
    "rQuestions = formatCreationDateColumn(rQuestions)\n",
    "javaQuestions = formatCreationDateColumn(javaQuestions)\n",
    "pythonQuestions = formatCreationDateColumn(pythonQuestions)"
   ]
  },
  {
   "cell_type": "code",
   "execution_count": 46,
   "metadata": {},
   "outputs": [],
   "source": [
    "def gettingTableUserFirstActivity(answersTable_provided,questionsTable_provided):\n",
    "    answersTable = answersTable_provided.copy()\n",
    "    questionsTable = questionsTable_provided.copy()\n",
    "   \n",
    "    #identify the first activity of users\n",
    "    answersTable[\"FirstActivity\"]=~answersTable[\" OwnerUserId\"].duplicated()\n",
    "    questionsTable[\"FirstActivity\"]=~questionsTable[\" OwnerUserId\"].duplicated()\n",
    "    \n",
    "    #obtaining first answer and first question of a user\n",
    "    firstAnswers=answersTable.loc[answersTable[\"FirstActivity\"]==True][[\" OwnerUserId\",\" CreationDate\"]]\n",
    "\n",
    "    firstQuestions = questionsTable.loc[questionsTable[\"FirstActivity\"]==True][[\" OwnerUserId\",\" CreationDate\"]]\n",
    "  \n",
    "    #and merge them into one table\n",
    "    firstActTable=firstQuestions.merge(firstAnswers, left_on=\" OwnerUserId\", right_on=\" OwnerUserId\", how='outer')\n",
    "    firstActTable.columns = [\" OwnerUserId\",\"FirstQuestion\",\"FirstAnswer\"]\n",
    "    \n",
    "    #obtain first activity (either answer or question)\n",
    "    firstActTable[\"FirstActivity\"]=firstActTable[[\"FirstQuestion\",\"FirstAnswer\"]].min(axis=1)\n",
    "    \n",
    "    \n",
    "    return(firstActTable)"
   ]
  },
  {
   "cell_type": "code",
   "execution_count": 47,
   "metadata": {},
   "outputs": [],
   "source": [
    "# get first activity per user in all the languages\n",
    "rFirstActTable = gettingTableUserFirstActivity(rAnswers,rQuestions)\n",
    "javaFirstActTable = gettingTableUserFirstActivity(javaAnswers,javaQuestions)\n",
    "pythonFirstActTable = gettingTableUserFirstActivity(pythonAnswers,pythonQuestions)"
   ]
  },
  {
   "cell_type": "code",
   "execution_count": 48,
   "metadata": {},
   "outputs": [],
   "source": [
    "def obtainSummaryUpMetric(answersTable,questionsTable,firstActTable):\n",
    "    \n",
    "    #Adding first activity table to answerstable \n",
    "    summaryTableAnswer = answersTable[[\"Id\",\" OwnerUserId\",\" CreationDate\",\" ParentId\",\"UpMetric\"]]\n",
    "    summaryTableAnswer=summaryTableAnswer.merge(firstActTable,left_on = \" OwnerUserId\",right_on=\" OwnerUserId\")\n",
    "    \n",
    "    #Use first activity to obtain normalized time\n",
    "    summaryTableAnswer[\"Present\"]= max(summaryTableAnswer[\" CreationDate\"])\n",
    "    \n",
    "    #timestamp of answer compared to first activity of that user\n",
    "    summaryTableAnswer[\"DifferenceNumerator\"]=(summaryTableAnswer[\" CreationDate\"]-summaryTableAnswer[\"FirstActivity\"])\n",
    "    summaryTableAnswer[\"DifferenceDenominator\"]=(summaryTableAnswer[\"Present\"]-summaryTableAnswer[\"FirstActivity\"])\n",
    "    \n",
    "    summaryTableAnswer.DifferenceNumerator=summaryTableAnswer.DifferenceNumerator.dt.total_seconds() /(24*3600) # to obtain days with decimals\n",
    "    summaryTableAnswer.DifferenceDenominator=summaryTableAnswer.DifferenceDenominator.dt.total_seconds()/(24*3600)\n",
    "    summaryTableAnswer[\"NormTime\"]=summaryTableAnswer[\"DifferenceNumerator\"]/summaryTableAnswer[\"DifferenceDenominator\"]\n",
    "    \n",
    "    return(summaryTableAnswer)\n",
    "\n"
   ]
  },
  {
   "cell_type": "code",
   "execution_count": 49,
   "metadata": {},
   "outputs": [],
   "source": [
    "# obtainSummaryUpMetric per language\n",
    "rSummaryUpMetricAnswer = obtainSummaryUpMetric(rAnswers,rQuestions,rFirstActTable)\n",
    "rSummaryUpMetricAnswer = rSummaryUpMetricAnswer.sort_values([' CreationDate'])\n",
    "javaSummaryUpMetricAnswer = obtainSummaryUpMetric(javaAnswers,javaQuestions,javaFirstActTable)\n",
    "javaSummaryUpMetricAnswer = javaSummaryUpMetricAnswer.sort_values([' CreationDate'])\n",
    "pythonSummaryUpMetricAnswer = obtainSummaryUpMetric(pythonAnswers,pythonQuestions,pythonFirstActTable)\n",
    "pythonSummaryUpMetricAnswer = pythonSummaryUpMetricAnswer.sort_values([' CreationDate'])"
   ]
  },
  {
   "cell_type": "code",
   "execution_count": 50,
   "metadata": {},
   "outputs": [],
   "source": [
    "def removeUsersWithFewAnswers(answersTable,summaryTableAnswer):\n",
    "    nrQuestionsperUser = answersTable[\" OwnerUserId\"].value_counts()\n",
    "    lessthan5users=nrQuestionsperUser[nrQuestionsperUser<5].index\n",
    "    nrUsersBefore=len(list(set(summaryTableAnswer[\" OwnerUserId\"].tolist())))\n",
    "    filteredTable=summaryTableAnswer.loc[~summaryTableAnswer[\" OwnerUserId\"].isin(lessthan5users)]\n",
    "    nrUsersAfter=len(list(set(filteredTable[\" OwnerUserId\"].tolist())))\n",
    "    print(1-nrUsersAfter/nrUsersBefore,\"% of the users were removed.\")\n",
    "    return(filteredTable)"
   ]
  },
  {
   "cell_type": "code",
   "execution_count": 51,
   "metadata": {},
   "outputs": [
    {
     "name": "stdout",
     "output_type": "stream",
     "text": [
      "0.8437442133201654 % of the users were removed.\n",
      "0.8169454999149323 % of the users were removed.\n",
      "0.8319620773003543 % of the users were removed.\n"
     ]
    }
   ],
   "source": [
    "# take away users with few answers\n",
    "rSummaryUpMetricAnswerFew = removeUsersWithFewAnswers(rAnswers,rSummaryUpMetricAnswer)\n",
    "javaSummaryUpMetricAnswerFew = removeUsersWithFewAnswers(javaAnswers,javaSummaryUpMetricAnswer)\n",
    "pythonSummaryUpMetricAnswerFew = removeUsersWithFewAnswers(pythonAnswers, pythonSummaryUpMetricAnswer)"
   ]
  },
  {
   "cell_type": "code",
   "execution_count": 52,
   "metadata": {},
   "outputs": [],
   "source": [
    "def addZeroTimepoint(summaryTableAnswer_provided):\n",
    "    summaryTableAnswer=summaryTableAnswer_provided.copy()\n",
    "    #Add 0 to time 0\n",
    "    usersWhoHaveZero=list(set(summaryTableAnswer[\" OwnerUserId\"][summaryTableAnswer[\"NormTime\"]==0].tolist()))\n",
    "    usersArtificialZero = list(set(summaryTableAnswer[\" OwnerUserId\"][~summaryTableAnswer[\" OwnerUserId\"].isin(usersWhoHaveZero)].tolist()))\n",
    "    tempdfArtificialZero = pd.DataFrame(0, index=np.arange(len(usersArtificialZero)), columns=list(summaryTableAnswer.columns.values))\n",
    "    tempdfArtificialZero[\" OwnerUserId\"]=usersArtificialZero\n",
    "    tempdfArtificialZero[\" OwnerUserId\"]=tempdfArtificialZero[\" OwnerUserId\"].astype(np.int64) # make type correct\n",
    "    summaryTableAnswer = summaryTableAnswer.append(tempdfArtificialZero, ignore_index=True)\n",
    "\n",
    "    #reorder again\n",
    "    summaryTableAnswer=summaryTableAnswer.sort_values([' OwnerUserId','NormTime']) #order by user\n",
    "    return(summaryTableAnswer)\n",
    "\n",
    "\n",
    "\n",
    "rSummaryUpMetricAnswerFew = addZeroTimepoint(rSummaryUpMetricAnswerFew)\n",
    "javaSummaryUpMetricAnswerFew = addZeroTimepoint(javaSummaryUpMetricAnswerFew)\n",
    "pythonSummaryUpMetricAnswerFew = addZeroTimepoint(pythonSummaryUpMetricAnswerFew)"
   ]
  },
  {
   "cell_type": "code",
   "execution_count": 53,
   "metadata": {},
   "outputs": [],
   "source": [
    "def plotEvolutionRandomUsers(summaryTableAnswer,language):\n",
    "    r_users=summaryTableAnswer.loc[np.random.choice(summaryTableAnswer.index, 6)][\" OwnerUserId\"].tolist()\n",
    "    plt.figure(figsize=(12,8))\n",
    "\n",
    "    for i in range(0,6):\n",
    "        user=r_users[i]\n",
    "        plt.subplot(3,2,i+1)\n",
    "        plt.xlabel(\"Days since first activity in \"+language)\n",
    "        plt.ylabel(\"Ratio of Up Votes within a Question\")\n",
    "        plt.plot(summaryTableAnswer.loc[summaryTableAnswer[\" OwnerUserId\"]==user][\"DifferenceNumerator\"].tolist(),summaryTableAnswer.loc[summaryTableAnswer[\" OwnerUserId\"]==user][\"UpMetric\"].tolist())\n",
    "    \n",
    "    plt.tight_layout()\n",
    "    plt.show()"
   ]
  },
  {
   "cell_type": "code",
   "execution_count": 54,
   "metadata": {},
   "outputs": [
    {
     "data": {
      "image/png": "[encoded data removed]",
      "text/plain": [
       "<matplotlib.figure.Figure at 0x1fd270d9eb8>"
      ]
     },
     "metadata": {},
     "output_type": "display_data"
    }
   ],
   "source": [
    "######## plots ###\n",
    "plotEvolutionRandomUsers(rSummaryUpMetricAnswer,\"R\")\n",
    "#plotEvolutionRandomUsers(javaSummaryUpMetricAnswer,\"JAVA\")\n",
    "#plotEvolutionRandomUsers(pythonSummaryUpMetricAnswer,\"Python\")"
   ]
  },
  {
   "cell_type": "code",
   "execution_count": null,
   "metadata": {},
   "outputs": [],
   "source": [
    "def aggregateIndividualLearningCurves(summaryTableProbAccAnswer,thresExpertise,threshUsers):\n",
    "    #possible timepoints from 0 to the maximum span.\n",
    "    x_all = np.linspace(0, max(summaryTableProbAccAnswer[\"DifferenceDenominator\"]),num=5000, endpoint=True)\n",
    "    #variable initialization\n",
    "    sumProbs = np.zeros(len(x_all))\n",
    "    nrUsers = np.zeros(len(x_all))\n",
    "    users = list(set(summaryTableProbAccAnswer[\" OwnerUserId\"].tolist()))\n",
    "    #total = np.empty((len(x_all),len(users),))\n",
    "    #total.fill(np.nan)\n",
    "    consUsers=0 #considered users\n",
    "    i=0\n",
    "    #for each user:\n",
    "    #linear interpolation - already checked that curve shape is similar to the ones obtained individually\n",
    "    for user in users:\n",
    "        xs_user=summaryTableProbAccAnswer[\"DifferenceNumerator\"][summaryTableProbAccAnswer[\" OwnerUserId\"]==user].tolist()\n",
    "        probs_user= summaryTableProbAccAnswer[\"UpMetric\"][summaryTableProbAccAnswer[\" OwnerUserId\"]==user].tolist()\n",
    "        \n",
    "        #interpolation function for this user\n",
    "        f1 = interp1d(xs_user,probs_user ,'linear')\n",
    "        \n",
    "        # only interpolated values are considered, meaning no extrapolated values\n",
    "        subset_x_all=x_all[x_all<max(xs_user)]\n",
    "        f1_int = f1(subset_x_all)\n",
    "    \n",
    "        \n",
    "        # only users that are considered to achieve expertise will be taken into consideration for computing the learning curve\n",
    "        if (min(probs_user[-5:])>thresExpertise):\n",
    "            consUsers=consUsers+1\n",
    "            #total[0:len(subset_x_all),i]=f1_int\n",
    "            #update probability sums at each time point with the interpolated probabilities for this user\n",
    "            sumProbs[0:len(subset_x_all)]=sumProbs[0:len(subset_x_all)]+f1_int\n",
    "            #update nr users \n",
    "            nrUsers[0:len(subset_x_all)] = nrUsers[0:len(subset_x_all)]+1\n",
    "            #i=i+1\n",
    "\n",
    "    \n",
    "    #Remove timepoints which have less than a threshold number of users\n",
    "    noUsersPos = np.where(nrUsers>threshUsers)\n",
    "    sumProbs=sumProbs[noUsersPos]\n",
    "    nrUsers=nrUsers[noUsersPos]\n",
    "    x_all=x_all[noUsersPos]\n",
    "    #total = total[noUsersPos,:]\n",
    "    probs=sumProbs/nrUsers\n",
    "    \n",
    "    print((len(users)-consUsers)/len(users), \" were not considered\")\n",
    "    print (consUsers, \" were considered in total\")\n",
    "    \n",
    "    return([x_all,probs])\n",
    "\n",
    "def plotAvgCurve(x_all,probs,language):    \n",
    "    plt.figure()\n",
    "    plt.xlabel(\"Days since first activity in \" + language)\n",
    "    plt.ylabel(\"Probability of answer\\ngetting accepted\")\n",
    "    plt.plot(x_all, probs)\n",
    "    plt.show()\n",
    "      "
   ]
  },
  {
   "cell_type": "code",
   "execution_count": null,
   "metadata": {},
   "outputs": [],
   "source": [
    "[Rx_all,Rprobs]=aggregateIndividualLearningCurves(rSummaryUpMetricAnswerFew,-0.1,100)\n",
    "[Jx_all,Jprobs]=aggregateIndividualLearningCurves(javaSummaryUpMetricAnswerFew,-0.1,100)\n",
    "[Px_all,Pprobs]=aggregateIndividualLearningCurves(pythonSummaryUpMetricAnswerFew,-0.1,100)"
   ]
  },
  {
   "cell_type": "code",
   "execution_count": null,
   "metadata": {},
   "outputs": [],
   "source": [
    "plotAvgCurve(Rx_all,Rprobs,\"R\")"
   ]
  },
  {
   "cell_type": "code",
   "execution_count": null,
   "metadata": {},
   "outputs": [],
   "source": [
    "plotAvgCurve(Jx_all,Jprobs,\"JAVA\")"
   ]
  },
  {
   "cell_type": "code",
   "execution_count": null,
   "metadata": {},
   "outputs": [],
   "source": [
    "plotAvgCurve(Px_all,Pprobs,\"Python\")"
   ]
  },
  {
   "cell_type": "code",
   "execution_count": null,
   "metadata": {},
   "outputs": [],
   "source": []
  }
 ],
 "metadata": {
  "kernelspec": {
   "display_name": "Python 3",
   "language": "python",
   "name": "python3"
  },
  "language_info": {
   "codemirror_mode": {
    "name": "ipython",
    "version": 3
   },
   "file_extension": ".py",
   "mimetype": "text/x-python",
   "name": "python",
   "nbconvert_exporter": "python",
   "pygments_lexer": "ipython3",
   "version": "3.6.4"
  }
 },
 "nbformat": 4,
 "nbformat_minor": 2
}
