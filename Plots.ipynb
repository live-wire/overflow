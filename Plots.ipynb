{
 "cells": [
  {
   "cell_type": "code",
   "execution_count": 1,
   "metadata": {},
   "outputs": [
    {
     "ename": "FileNotFoundError",
     "evalue": "File b'java_questions.csv' does not exist",
     "output_type": "error",
     "traceback": [
      "\u001b[0;31m---------------------------------------------------------------------------\u001b[0m",
      "\u001b[0;31mFileNotFoundError\u001b[0m                         Traceback (most recent call last)",
      "\u001b[0;32m<ipython-input-1-c2e4fb6597e3>\u001b[0m in \u001b[0;36m<module>\u001b[0;34m()\u001b[0m\n\u001b[1;32m     19\u001b[0m \u001b[0mjavaUsers\u001b[0m\u001b[0;34m=\u001b[0m\u001b[0mpd\u001b[0m\u001b[0;34m.\u001b[0m\u001b[0mread_csv\u001b[0m\u001b[0;34m(\u001b[0m\u001b[0;34m\"java_users.csv\"\u001b[0m\u001b[0;34m)\u001b[0m\u001b[0;34m\u001b[0m\u001b[0m\n\u001b[1;32m     20\u001b[0m \u001b[0;34m\u001b[0m\u001b[0m\n\u001b[0;32m---> 21\u001b[0;31m \u001b[0mjavaQuestions\u001b[0m \u001b[0;34m=\u001b[0m \u001b[0mpd\u001b[0m\u001b[0;34m.\u001b[0m\u001b[0mread_csv\u001b[0m\u001b[0;34m(\u001b[0m\u001b[0;34m\"java_questions.csv\"\u001b[0m\u001b[0;34m,\u001b[0m\u001b[0merror_bad_lines\u001b[0m\u001b[0;34m=\u001b[0m\u001b[0;32mFalse\u001b[0m\u001b[0;34m)\u001b[0m\u001b[0;34m\u001b[0m\u001b[0m\n\u001b[0m\u001b[1;32m     22\u001b[0m \u001b[0mpythonQuestions\u001b[0m\u001b[0;34m=\u001b[0m \u001b[0mpd\u001b[0m\u001b[0;34m.\u001b[0m\u001b[0mread_csv\u001b[0m\u001b[0;34m(\u001b[0m\u001b[0;34m\"python_questions.csv\"\u001b[0m\u001b[0;34m,\u001b[0m\u001b[0merror_bad_lines\u001b[0m\u001b[0;34m=\u001b[0m\u001b[0;32mFalse\u001b[0m\u001b[0;34m)\u001b[0m\u001b[0;34m\u001b[0m\u001b[0m\n\u001b[1;32m     23\u001b[0m \u001b[0mrQuestions\u001b[0m\u001b[0;34m=\u001b[0m \u001b[0mpd\u001b[0m\u001b[0;34m.\u001b[0m\u001b[0mread_csv\u001b[0m\u001b[0;34m(\u001b[0m\u001b[0;34m\"r_questions.csv\"\u001b[0m\u001b[0;34m)\u001b[0m\u001b[0;34m\u001b[0m\u001b[0m\n",
      "\u001b[0;32m/anaconda3/lib/python3.6/site-packages/pandas/io/parsers.py\u001b[0m in \u001b[0;36mparser_f\u001b[0;34m(filepath_or_buffer, sep, delimiter, header, names, index_col, usecols, squeeze, prefix, mangle_dupe_cols, dtype, engine, converters, true_values, false_values, skipinitialspace, skiprows, nrows, na_values, keep_default_na, na_filter, verbose, skip_blank_lines, parse_dates, infer_datetime_format, keep_date_col, date_parser, dayfirst, iterator, chunksize, compression, thousands, decimal, lineterminator, quotechar, quoting, escapechar, comment, encoding, dialect, tupleize_cols, error_bad_lines, warn_bad_lines, skipfooter, skip_footer, doublequote, delim_whitespace, as_recarray, compact_ints, use_unsigned, low_memory, buffer_lines, memory_map, float_precision)\u001b[0m\n\u001b[1;32m    707\u001b[0m                     skip_blank_lines=skip_blank_lines)\n\u001b[1;32m    708\u001b[0m \u001b[0;34m\u001b[0m\u001b[0m\n\u001b[0;32m--> 709\u001b[0;31m         \u001b[0;32mreturn\u001b[0m \u001b[0m_read\u001b[0m\u001b[0;34m(\u001b[0m\u001b[0mfilepath_or_buffer\u001b[0m\u001b[0;34m,\u001b[0m \u001b[0mkwds\u001b[0m\u001b[0;34m)\u001b[0m\u001b[0;34m\u001b[0m\u001b[0m\n\u001b[0m\u001b[1;32m    710\u001b[0m \u001b[0;34m\u001b[0m\u001b[0m\n\u001b[1;32m    711\u001b[0m     \u001b[0mparser_f\u001b[0m\u001b[0;34m.\u001b[0m\u001b[0m__name__\u001b[0m \u001b[0;34m=\u001b[0m \u001b[0mname\u001b[0m\u001b[0;34m\u001b[0m\u001b[0m\n",
      "\u001b[0;32m/anaconda3/lib/python3.6/site-packages/pandas/io/parsers.py\u001b[0m in \u001b[0;36m_read\u001b[0;34m(filepath_or_buffer, kwds)\u001b[0m\n\u001b[1;32m    447\u001b[0m \u001b[0;34m\u001b[0m\u001b[0m\n\u001b[1;32m    448\u001b[0m     \u001b[0;31m# Create the parser.\u001b[0m\u001b[0;34m\u001b[0m\u001b[0;34m\u001b[0m\u001b[0m\n\u001b[0;32m--> 449\u001b[0;31m     \u001b[0mparser\u001b[0m \u001b[0;34m=\u001b[0m \u001b[0mTextFileReader\u001b[0m\u001b[0;34m(\u001b[0m\u001b[0mfilepath_or_buffer\u001b[0m\u001b[0;34m,\u001b[0m \u001b[0;34m**\u001b[0m\u001b[0mkwds\u001b[0m\u001b[0;34m)\u001b[0m\u001b[0;34m\u001b[0m\u001b[0m\n\u001b[0m\u001b[1;32m    450\u001b[0m \u001b[0;34m\u001b[0m\u001b[0m\n\u001b[1;32m    451\u001b[0m     \u001b[0;32mif\u001b[0m \u001b[0mchunksize\u001b[0m \u001b[0;32mor\u001b[0m \u001b[0miterator\u001b[0m\u001b[0;34m:\u001b[0m\u001b[0;34m\u001b[0m\u001b[0m\n",
      "\u001b[0;32m/anaconda3/lib/python3.6/site-packages/pandas/io/parsers.py\u001b[0m in \u001b[0;36m__init__\u001b[0;34m(self, f, engine, **kwds)\u001b[0m\n\u001b[1;32m    816\u001b[0m             \u001b[0mself\u001b[0m\u001b[0;34m.\u001b[0m\u001b[0moptions\u001b[0m\u001b[0;34m[\u001b[0m\u001b[0;34m'has_index_names'\u001b[0m\u001b[0;34m]\u001b[0m \u001b[0;34m=\u001b[0m \u001b[0mkwds\u001b[0m\u001b[0;34m[\u001b[0m\u001b[0;34m'has_index_names'\u001b[0m\u001b[0;34m]\u001b[0m\u001b[0;34m\u001b[0m\u001b[0m\n\u001b[1;32m    817\u001b[0m \u001b[0;34m\u001b[0m\u001b[0m\n\u001b[0;32m--> 818\u001b[0;31m         \u001b[0mself\u001b[0m\u001b[0;34m.\u001b[0m\u001b[0m_make_engine\u001b[0m\u001b[0;34m(\u001b[0m\u001b[0mself\u001b[0m\u001b[0;34m.\u001b[0m\u001b[0mengine\u001b[0m\u001b[0;34m)\u001b[0m\u001b[0;34m\u001b[0m\u001b[0m\n\u001b[0m\u001b[1;32m    819\u001b[0m \u001b[0;34m\u001b[0m\u001b[0m\n\u001b[1;32m    820\u001b[0m     \u001b[0;32mdef\u001b[0m \u001b[0mclose\u001b[0m\u001b[0;34m(\u001b[0m\u001b[0mself\u001b[0m\u001b[0;34m)\u001b[0m\u001b[0;34m:\u001b[0m\u001b[0;34m\u001b[0m\u001b[0m\n",
      "\u001b[0;32m/anaconda3/lib/python3.6/site-packages/pandas/io/parsers.py\u001b[0m in \u001b[0;36m_make_engine\u001b[0;34m(self, engine)\u001b[0m\n\u001b[1;32m   1047\u001b[0m     \u001b[0;32mdef\u001b[0m \u001b[0m_make_engine\u001b[0m\u001b[0;34m(\u001b[0m\u001b[0mself\u001b[0m\u001b[0;34m,\u001b[0m \u001b[0mengine\u001b[0m\u001b[0;34m=\u001b[0m\u001b[0;34m'c'\u001b[0m\u001b[0;34m)\u001b[0m\u001b[0;34m:\u001b[0m\u001b[0;34m\u001b[0m\u001b[0m\n\u001b[1;32m   1048\u001b[0m         \u001b[0;32mif\u001b[0m \u001b[0mengine\u001b[0m \u001b[0;34m==\u001b[0m \u001b[0;34m'c'\u001b[0m\u001b[0;34m:\u001b[0m\u001b[0;34m\u001b[0m\u001b[0m\n\u001b[0;32m-> 1049\u001b[0;31m             \u001b[0mself\u001b[0m\u001b[0;34m.\u001b[0m\u001b[0m_engine\u001b[0m \u001b[0;34m=\u001b[0m \u001b[0mCParserWrapper\u001b[0m\u001b[0;34m(\u001b[0m\u001b[0mself\u001b[0m\u001b[0;34m.\u001b[0m\u001b[0mf\u001b[0m\u001b[0;34m,\u001b[0m \u001b[0;34m**\u001b[0m\u001b[0mself\u001b[0m\u001b[0;34m.\u001b[0m\u001b[0moptions\u001b[0m\u001b[0;34m)\u001b[0m\u001b[0;34m\u001b[0m\u001b[0m\n\u001b[0m\u001b[1;32m   1050\u001b[0m         \u001b[0;32melse\u001b[0m\u001b[0;34m:\u001b[0m\u001b[0;34m\u001b[0m\u001b[0m\n\u001b[1;32m   1051\u001b[0m             \u001b[0;32mif\u001b[0m \u001b[0mengine\u001b[0m \u001b[0;34m==\u001b[0m \u001b[0;34m'python'\u001b[0m\u001b[0;34m:\u001b[0m\u001b[0;34m\u001b[0m\u001b[0m\n",
      "\u001b[0;32m/anaconda3/lib/python3.6/site-packages/pandas/io/parsers.py\u001b[0m in \u001b[0;36m__init__\u001b[0;34m(self, src, **kwds)\u001b[0m\n\u001b[1;32m   1693\u001b[0m         \u001b[0mkwds\u001b[0m\u001b[0;34m[\u001b[0m\u001b[0;34m'allow_leading_cols'\u001b[0m\u001b[0;34m]\u001b[0m \u001b[0;34m=\u001b[0m \u001b[0mself\u001b[0m\u001b[0;34m.\u001b[0m\u001b[0mindex_col\u001b[0m \u001b[0;32mis\u001b[0m \u001b[0;32mnot\u001b[0m \u001b[0;32mFalse\u001b[0m\u001b[0;34m\u001b[0m\u001b[0m\n\u001b[1;32m   1694\u001b[0m \u001b[0;34m\u001b[0m\u001b[0m\n\u001b[0;32m-> 1695\u001b[0;31m         \u001b[0mself\u001b[0m\u001b[0;34m.\u001b[0m\u001b[0m_reader\u001b[0m \u001b[0;34m=\u001b[0m \u001b[0mparsers\u001b[0m\u001b[0;34m.\u001b[0m\u001b[0mTextReader\u001b[0m\u001b[0;34m(\u001b[0m\u001b[0msrc\u001b[0m\u001b[0;34m,\u001b[0m \u001b[0;34m**\u001b[0m\u001b[0mkwds\u001b[0m\u001b[0;34m)\u001b[0m\u001b[0;34m\u001b[0m\u001b[0m\n\u001b[0m\u001b[1;32m   1696\u001b[0m \u001b[0;34m\u001b[0m\u001b[0m\n\u001b[1;32m   1697\u001b[0m         \u001b[0;31m# XXX\u001b[0m\u001b[0;34m\u001b[0m\u001b[0;34m\u001b[0m\u001b[0m\n",
      "\u001b[0;32mpandas/_libs/parsers.pyx\u001b[0m in \u001b[0;36mpandas._libs.parsers.TextReader.__cinit__\u001b[0;34m()\u001b[0m\n",
      "\u001b[0;32mpandas/_libs/parsers.pyx\u001b[0m in \u001b[0;36mpandas._libs.parsers.TextReader._setup_parser_source\u001b[0;34m()\u001b[0m\n",
      "\u001b[0;31mFileNotFoundError\u001b[0m: File b'java_questions.csv' does not exist"
     ]
    }
   ],
   "source": [
    "import re\n",
    "import csv\n",
    "import sys\n",
    "import random\n",
    "import numpy as np\n",
    "import pandas as pd\n",
    "from scipy.interpolate import interp1d\n",
    "import matplotlib.pyplot as plt\n",
    "import seaborn as sns\n",
    "%matplotlib inline\n",
    "\n",
    "\n",
    "# import tables for Java, python and R\n",
    "rUsers= pd.read_csv(\"r_users.csv\")\n",
    "\n",
    "# import tables for Java, python and R\n",
    "rUsers= pd.read_csv(\"r_users.csv\")\n",
    "pythonUsers= pd.read_csv(\"python_users.csv\")\n",
    "javaUsers=pd.read_csv(\"java_users.csv\") \n",
    "\n",
    "javaQuestions = pd.read_csv(\"java_questions.csv\",error_bad_lines=False)\n",
    "pythonQuestions= pd.read_csv(\"python_questions.csv\",error_bad_lines=False)\n",
    "rQuestions= pd.read_csv(\"r_questions.csv\")\n",
    "\n",
    "javaAnswers = pd.read_csv(\"java_answers.csv\",error_bad_lines=False)\n",
    "pythonAnswers = pd.read_csv(\"python_answers.csv\",error_bad_lines=False) \n",
    "rAnswers= pd.read_csv(\"r_answers.csv\")\n",
    "\n"
   ]
  },
  {
   "cell_type": "code",
   "execution_count": null,
   "metadata": {},
   "outputs": [],
   "source": [
    "def upMetricCreation(table):\n",
    "    answersTable =table.copy()\n",
    "    \n",
    "    answersTable[' AbsSum']= answersTable[' Score'].abs()\n",
    "\n",
    "    # the absolute total score by question\n",
    "    questiondf = answersTable.groupby([' ParentId'])[' AbsSum'].sum()\n",
    "    \n",
    "    questiondf = pd.DataFrame(questiondf)\n",
    "    questiondf= questiondf.reset_index()\n",
    "                \n",
    "    #merge the table of answers and question\n",
    "    answersTable= answersTable.merge(questiondf,left_on=' ParentId',suffixes=('', 'Global'), right_on=' ParentId', how='left')\n",
    "    answersTable   \n",
    "    \n",
    "    # Score relative to the question, multiplied by the signal of the \"individual\" score\n",
    "    answersTable[' RelativeScore'] =  answersTable[' AbsSum'] / answersTable[' AbsSumGlobal']  \n",
    "    \n",
    "    answersTable.loc[answersTable[' Score'] < 0,' RelativeScore'] = - answersTable[' RelativeScore'] \n",
    "    answersTable.loc[answersTable[' Score'] == 0,' RelativeScore'] =0\n",
    "    \n",
    "    # The cum. number of questions answers by user \n",
    "    answersTable['CumSumQuestions'] = answersTable.groupby(' OwnerUserId').cumcount() + 1\n",
    "    \n",
    "    answersTable=answersTable.sort_values([' OwnerUserId',' CreationDate']) #order by user\n",
    "    \n",
    "    answersTable['CumScore'] = answersTable.groupby(' OwnerUserId')[' RelativeScore'].cumsum()\n",
    "    \n",
    "    \n",
    "    answersTable=answersTable.sort_values([' OwnerUserId',' CreationDate']) #order by user\n",
    "    \n",
    "    \n",
    "\n",
    "    answersTable['UpMetric'] = answersTable['CumScore']/answersTable['CumSumQuestions'] \n",
    "    return(answersTable)"
   ]
  },
  {
   "cell_type": "code",
   "execution_count": null,
   "metadata": {},
   "outputs": [],
   "source": [
    "# UpMetric creation for every language\n",
    "rAnswers = upMetricCreation(rAnswers)\n",
    "pythonAnswers = upMetricCreation(pythonAnswers)\n",
    "javaAnswers = upMetricCreation(javaAnswers)\n"
   ]
  },
  {
   "cell_type": "code",
   "execution_count": null,
   "metadata": {},
   "outputs": [],
   "source": []
  },
  {
   "cell_type": "code",
   "execution_count": null,
   "metadata": {},
   "outputs": [],
   "source": [
    "def formatCreationDateColumn(table_provided):\n",
    "    table = table_provided.copy()\n",
    "    #Correcting format of dates in the table\n",
    "    table[\" CreationDate\"]=pd.to_datetime(table[\" CreationDate\"],errors=\"coerce\")\n",
    "    \n",
    "    #remove lines which could not be formatted to correct date format\n",
    "    table=table.loc[~table[\" CreationDate\"].isnull()]\n",
    "    \n",
    "    return(table)"
   ]
  },
  {
   "cell_type": "code",
   "execution_count": null,
   "metadata": {},
   "outputs": [],
   "source": [
    "# format data column for all the tables\n",
    "rAnswers = formatCreationDateColumn(rAnswers)\n",
    "javaAnswers = formatCreationDateColumn(javaAnswers)\n",
    "pythonAnswers = formatCreationDateColumn(pythonAnswers)\n",
    "\n",
    "rQuestions = formatCreationDateColumn(rQuestions)\n",
    "javaQuestions = formatCreationDateColumn(javaQuestions)\n",
    "pythonQuestions = formatCreationDateColumn(pythonQuestions)"
   ]
  },
  {
   "cell_type": "code",
   "execution_count": null,
   "metadata": {},
   "outputs": [],
   "source": [
    "def gettingTableUserFirstActivity(answersTable_provided,questionsTable_provided):\n",
    "    answersTable = answersTable_provided.copy()\n",
    "    questionsTable = questionsTable_provided.copy()\n",
    "   \n",
    "    #identify the first activity of users\n",
    "    answersTable[\"FirstActivity\"]=~answersTable[\" OwnerUserId\"].duplicated()\n",
    "    questionsTable[\"FirstActivity\"]=~questionsTable[\" OwnerUserId\"].duplicated()\n",
    "    \n",
    "    #obtaining first answer and first question of a user\n",
    "    firstAnswers=answersTable.loc[answersTable[\"FirstActivity\"]==True][[\" OwnerUserId\",\" CreationDate\"]]\n",
    "\n",
    "    firstQuestions = questionsTable.loc[questionsTable[\"FirstActivity\"]==True][[\" OwnerUserId\",\" CreationDate\"]]\n",
    "  \n",
    "    #and merge them into one table\n",
    "    firstActTable=firstQuestions.merge(firstAnswers, left_on=\" OwnerUserId\", right_on=\" OwnerUserId\", how='outer')\n",
    "    firstActTable.columns = [\" OwnerUserId\",\"FirstQuestion\",\"FirstAnswer\"]\n",
    "    \n",
    "    #obtain first activity (either answer or question)\n",
    "    firstActTable[\"FirstActivity\"]=firstActTable[[\"FirstQuestion\",\"FirstAnswer\"]].min(axis=1)\n",
    "    \n",
    "    \n",
    "    return(firstActTable)"
   ]
  },
  {
   "cell_type": "code",
   "execution_count": null,
   "metadata": {},
   "outputs": [],
   "source": [
    "# get first activity per user in all the languages\n",
    "rFirstActTable = gettingTableUserFirstActivity(rAnswers,rQuestions)\n",
    "javaFirstActTable = gettingTableUserFirstActivity(javaAnswers,javaQuestions)\n",
    "pythonFirstActTable = gettingTableUserFirstActivity(pythonAnswers,pythonQuestions)"
   ]
  },
  {
   "cell_type": "code",
   "execution_count": null,
   "metadata": {},
   "outputs": [],
   "source": [
    "def obtainSummaryUpMetric(answersTable,questionsTable,firstActTable):\n",
    "    \n",
    "    #Adding first activity table to answerstable \n",
    "    summaryTableAnswer = answersTable[[\"Id\",\" OwnerUserId\",\" CreationDate\",\" ParentId\",\"UpMetric\"]]\n",
    "    summaryTableAnswer=summaryTableAnswer.merge(firstActTable,left_on = \" OwnerUserId\",right_on=\" OwnerUserId\")\n",
    "    \n",
    "    #Use first activity to obtain normalized time\n",
    "    summaryTableAnswer[\"Present\"]= max(summaryTableAnswer[\" CreationDate\"])\n",
    "    \n",
    "    #timestamp of answer compared to first activity of that user\n",
    "    summaryTableAnswer[\"DifferenceNumerator\"]=(summaryTableAnswer[\" CreationDate\"]-summaryTableAnswer[\"FirstActivity\"])\n",
    "    summaryTableAnswer[\"DifferenceDenominator\"]=(summaryTableAnswer[\"Present\"]-summaryTableAnswer[\"FirstActivity\"])\n",
    "    \n",
    "    summaryTableAnswer.DifferenceNumerator=summaryTableAnswer.DifferenceNumerator.dt.total_seconds() /(24*3600) # to obtain days with decimals\n",
    "    summaryTableAnswer.DifferenceDenominator=summaryTableAnswer.DifferenceDenominator.dt.total_seconds()/(24*3600)\n",
    "    summaryTableAnswer[\"NormTime\"]=summaryTableAnswer[\"DifferenceNumerator\"]/summaryTableAnswer[\"DifferenceDenominator\"]\n",
    "    \n",
    "    return(summaryTableAnswer)\n",
    "\n"
   ]
  },
  {
   "cell_type": "code",
   "execution_count": null,
   "metadata": {},
   "outputs": [],
   "source": [
    "# obtainSummaryUpMetric per language\n",
    "rSummaryUpMetricAnswer = obtainSummaryUpMetric(rAnswers,rQuestions,rFirstActTable)\n",
    "rSummaryUpMetricAnswer = rSummaryUpMetricAnswer.sort_values([' CreationDate'])\n",
    "javaSummaryUpMetricAnswer = obtainSummaryUpMetric(javaAnswers,javaQuestions,javaFirstActTable)\n",
    "javaSummaryUpMetricAnswer = javaSummaryUpMetricAnswer.sort_values([' CreationDate'])\n",
    "pythonSummaryUpMetricAnswer = obtainSummaryUpMetric(pythonAnswers,pythonQuestions,pythonFirstActTable)\n",
    "pythonSummaryUpMetricAnswer = pythonSummaryUpMetricAnswer.sort_values([' CreationDate'])"
   ]
  },
  {
   "cell_type": "code",
   "execution_count": null,
   "metadata": {},
   "outputs": [],
   "source": [
    "def removeUsersWithFewAnswers(answersTable,summaryTableAnswer):\n",
    "    nrQuestionsperUser = answersTable[\" OwnerUserId\"].value_counts()\n",
    "    lessthan5users=nrQuestionsperUser[nrQuestionsperUser<5].index\n",
    "    nrUsersBefore=len(list(set(summaryTableAnswer[\" OwnerUserId\"].tolist())))\n",
    "    filteredTable=summaryTableAnswer.loc[~summaryTableAnswer[\" OwnerUserId\"].isin(lessthan5users)]\n",
    "    nrUsersAfter=len(list(set(filteredTable[\" OwnerUserId\"].tolist())))\n",
    "    print(1-nrUsersAfter/nrUsersBefore,\"% of the users were removed.\")\n",
    "    return(filteredTable)"
   ]
  },
  {
   "cell_type": "code",
   "execution_count": null,
   "metadata": {},
   "outputs": [],
   "source": [
    "# take away users with few answers\n",
    "rSummaryUpMetricAnswerFew = removeUsersWithFewAnswers(rAnswers,rSummaryUpMetricAnswer)\n",
    "javaSummaryUpMetricAnswerFew = removeUsersWithFewAnswers(javaAnswers,javaSummaryUpMetricAnswer)\n",
    "pythonSummaryUpMetricAnswerFew = removeUsersWithFewAnswers(pythonAnswers, pythonSummaryUpMetricAnswer)"
   ]
  },
  {
   "cell_type": "code",
   "execution_count": null,
   "metadata": {},
   "outputs": [],
   "source": [
    "def addZeroTimepoint(summaryTableAnswer_provided):\n",
    "    summaryTableAnswer=summaryTableAnswer_provided.copy()\n",
    "    #Add 0 to time 0\n",
    "    usersWhoHaveZero=list(set(summaryTableAnswer[\" OwnerUserId\"][summaryTableAnswer[\"NormTime\"]==0].tolist()))\n",
    "    usersArtificialZero = list(set(summaryTableAnswer[\" OwnerUserId\"][~summaryTableAnswer[\" OwnerUserId\"].isin(usersWhoHaveZero)].tolist()))\n",
    "    tempdfArtificialZero = pd.DataFrame(0, index=np.arange(len(usersArtificialZero)), columns=list(summaryTableAnswer.columns.values))\n",
    "    tempdfArtificialZero[\" OwnerUserId\"]=usersArtificialZero\n",
    "    tempdfArtificialZero[\" OwnerUserId\"]=tempdfArtificialZero[\" OwnerUserId\"].astype(np.int64) # make type correct\n",
    "    summaryTableAnswer = summaryTableAnswer.append(tempdfArtificialZero, ignore_index=True)\n",
    "\n",
    "    #reorder again\n",
    "    summaryTableAnswer=summaryTableAnswer.sort_values([' OwnerUserId','NormTime']) #order by user\n",
    "    return(summaryTableAnswer)\n",
    "\n",
    "\n",
    "\n",
    "rSummaryUpMetricAnswerFew = addZeroTimepoint(rSummaryUpMetricAnswerFew)\n",
    "javaSummaryUpMetricAnswerFew = addZeroTimepoint(javaSummaryUpMetricAnswerFew)\n",
    "pythonSummaryUpMetricAnswerFew = addZeroTimepoint(pythonSummaryUpMetricAnswerFew)"
   ]
  },
  {
   "cell_type": "code",
   "execution_count": null,
   "metadata": {},
   "outputs": [],
   "source": [
    "def plotEvolutionRandomUsers(summaryTableAnswer,language):\n",
    "    r_users=summaryTableAnswer.loc[np.random.choice(summaryTableAnswer.index, 6)][\" OwnerUserId\"].tolist()\n",
    "    plt.figure(figsize=(12,8))\n",
    "\n",
    "    for i in range(0,6):\n",
    "        user=r_users[i]\n",
    "        plt.subplot(3,2,i+1)\n",
    "        plt.xlabel(\"Days since first activity in \"+language)\n",
    "        plt.ylabel(\"Ratio of Up Votes within a Question\")\n",
    "        plt.plot(summaryTableAnswer.loc[summaryTableAnswer[\" OwnerUserId\"]==user][\"DifferenceNumerator\"].tolist(),summaryTableAnswer.loc[summaryTableAnswer[\" OwnerUserId\"]==user][\"UpMetric\"].tolist())\n",
    "    \n",
    "    plt.tight_layout()\n",
    "    plt.show()"
   ]
  },
  {
   "cell_type": "code",
   "execution_count": null,
   "metadata": {},
   "outputs": [],
   "source": [
    "######## plots ###\n",
    "plotEvolutionRandomUsers(rSummaryUpMetricAnswer,\"R\")\n",
    "#plotEvolutionRandomUsers(javaSummaryUpMetricAnswer,\"JAVA\")\n",
    "#plotEvolutionRandomUsers(pythonSummaryUpMetricAnswer,\"Python\")"
   ]
  },
  {
   "cell_type": "code",
   "execution_count": null,
   "metadata": {},
   "outputs": [],
   "source": [
    "def aggregateIndividualLearningCurves(summaryTableProbAccAnswer,thresExpertise,threshUsers):\n",
    "    #possible timepoints from 0 to the maximum span.\n",
    "    x_all = np.linspace(0, max(summaryTableProbAccAnswer[\"DifferenceDenominator\"]),num=5000, endpoint=True)\n",
    "    #variable initialization\n",
    "    sumProbs = np.zeros(len(x_all))\n",
    "    nrUsers = np.zeros(len(x_all))\n",
    "    users = list(set(summaryTableProbAccAnswer[\" OwnerUserId\"].tolist()))\n",
    "    #total = np.empty((len(x_all),len(users),))\n",
    "    #total.fill(np.nan)\n",
    "    consUsers=0 #considered users\n",
    "    i=0\n",
    "    #for each user:\n",
    "    #linear interpolation - already checked that curve shape is similar to the ones obtained individually\n",
    "    for user in users:\n",
    "        xs_user=summaryTableProbAccAnswer[\"DifferenceNumerator\"][summaryTableProbAccAnswer[\" OwnerUserId\"]==user].tolist()\n",
    "        probs_user= summaryTableProbAccAnswer[\"UpMetric\"][summaryTableProbAccAnswer[\" OwnerUserId\"]==user].tolist()\n",
    "        \n",
    "        #interpolation function for this user\n",
    "        f1 = interp1d(xs_user,probs_user ,'linear')\n",
    "        \n",
    "        # only interpolated values are considered, meaning no extrapolated values\n",
    "        subset_x_all=x_all[x_all<max(xs_user)]\n",
    "        f1_int = f1(subset_x_all)\n",
    "    \n",
    "        \n",
    "        # only users that are considered to achieve expertise will be taken into consideration for computing the learning curve\n",
    "        if (min(probs_user[-5:])>thresExpertise):\n",
    "            consUsers=consUsers+1\n",
    "            #total[0:len(subset_x_all),i]=f1_int\n",
    "            #update probability sums at each time point with the interpolated probabilities for this user\n",
    "            sumProbs[0:len(subset_x_all)]=sumProbs[0:len(subset_x_all)]+f1_int\n",
    "            #update nr users \n",
    "            nrUsers[0:len(subset_x_all)] = nrUsers[0:len(subset_x_all)]+1\n",
    "            #i=i+1\n",
    "\n",
    "    \n",
    "    #Remove timepoints which have less than a threshold number of users\n",
    "    noUsersPos = np.where(nrUsers>threshUsers)\n",
    "    sumProbs=sumProbs[noUsersPos]\n",
    "    nrUsers=nrUsers[noUsersPos]\n",
    "    x_all=x_all[noUsersPos]\n",
    "    #total = total[noUsersPos,:]\n",
    "    probs=sumProbs/nrUsers\n",
    "    \n",
    "    print((len(users)-consUsers)/len(users), \" were not considered\")\n",
    "    print (consUsers, \" were considered in total\")\n",
    "    \n",
    "    return([x_all,probs])\n",
    "\n",
    "def plotAvgCurve(x_all,probs,language):    \n",
    "    plt.figure()\n",
    "    plt.xlabel(\"Days since first activity in \" + language)\n",
    "    plt.ylabel(\"Probability of answer\\ngetting accepted\")\n",
    "    plt.plot(x_all, probs)\n",
    "    plt.show()\n",
    "      "
   ]
  },
  {
   "cell_type": "code",
   "execution_count": null,
   "metadata": {},
   "outputs": [],
   "source": [
    "[Rx_all,Rprobs]=aggregateIndividualLearningCurves(rSummaryUpMetricAnswerFew,-0.1,100)\n",
    "[Jx_all,Jprobs]=aggregateIndividualLearningCurves(javaSummaryUpMetricAnswerFew,-0.1,100)\n",
    "[Px_all,Pprobs]=aggregateIndividualLearningCurves(pythonSummaryUpMetricAnswerFew,-0.1,100)"
   ]
  },
  {
   "cell_type": "code",
   "execution_count": null,
   "metadata": {},
   "outputs": [],
   "source": [
    "plotAvgCurve(Rx_all,Rprobs,\"R\")"
   ]
  },
  {
   "cell_type": "code",
   "execution_count": null,
   "metadata": {},
   "outputs": [],
   "source": [
    "plotAvgCurve(Jx_all,Jprobs,\"JAVA\")"
   ]
  },
  {
   "cell_type": "code",
   "execution_count": null,
   "metadata": {},
   "outputs": [],
   "source": [
    "plotAvgCurve(Px_all,Pprobs,\"Python\")"
   ]
  },
  {
   "cell_type": "code",
   "execution_count": null,
   "metadata": {},
   "outputs": [],
   "source": []
  }
 ],
 "metadata": {
  "kernelspec": {
   "display_name": "Python 3",
   "language": "python",
   "name": "python3"
  },
  "language_info": {
   "codemirror_mode": {
    "name": "ipython",
    "version": 3
   },
   "file_extension": ".py",
   "mimetype": "text/x-python",
   "name": "python",
   "nbconvert_exporter": "python",
   "pygments_lexer": "ipython3",
   "version": "3.6.4"
  }
 },
 "nbformat": 4,
 "nbformat_minor": 2
}
