{
 "cells": [
  {
   "cell_type": "markdown",
   "metadata": {},
   "source": [
    "# Obtaining Learning curves for programming language in Stackoverflow"
   ]
  },
  {
   "cell_type": "code",
   "execution_count": 2,
   "metadata": {},
   "outputs": [],
   "source": [
    "#Import Modules\n",
    "import pandas as pd\n",
    "import numpy as np\n",
    "import matplotlib.pyplot as plt\n",
    "%matplotlib inline"
   ]
  },
  {
   "cell_type": "markdown",
   "metadata": {},
   "source": [
    "## Import Tables"
   ]
  },
  {
   "cell_type": "code",
   "execution_count": 3,
   "metadata": {},
   "outputs": [
    {
     "name": "stderr",
     "output_type": "stream",
     "text": [
      "C:\\Users\\baren\\Anaconda3\\lib\\site-packages\\IPython\\core\\interactiveshell.py:2728: DtypeWarning: Columns (4) have mixed types. Specify dtype option on import or set low_memory=False.\n",
      "  interactivity=interactivity, compiler=compiler, result=result)\n",
      "b'Skipping line 1122646: expected 7 fields, saw 12\\n'\n",
      "b'Skipping line 325621: expected 10 fields, saw 23\\n'\n",
      "b'Skipping line 336660: expected 10 fields, saw 74\\nSkipping line 366638: expected 10 fields, saw 19\\n'\n",
      "b'Skipping line 455722: expected 10 fields, saw 11\\n'\n",
      "b'Skipping line 804123: expected 10 fields, saw 19\\n'\n",
      "b'Skipping line 865079: expected 10 fields, saw 12\\nSkipping line 866131: expected 10 fields, saw 15\\n'\n"
     ]
    }
   ],
   "source": [
    "RanswersTable = pd.read_csv(\"r_answers.csv\")\n",
    "RquestionsTable = pd.read_csv(\"r_questions.csv\")\n",
    "JAVAanswersTable = pd.read_csv(\"java_answers.csv\",error_bad_lines=False)\n",
    "JAVAquestionsTable = pd.read_csv(\"java_questions.csv\",error_bad_lines=False)\n",
    "PYTanswersTable = pd.read_csv(\"python_answers.csv\",error_bad_lines=False)\n",
    "PYTquestionsTable=pd.read_csv(\"python_questions.csv\",error_bad_lines=False)"
   ]
  },
  {
   "cell_type": "markdown",
   "metadata": {},
   "source": [
    "## Task 1 - Compute Probabilities of answers getting accpeted for each users at several time points."
   ]
  },
  {
   "cell_type": "code",
   "execution_count": 4,
   "metadata": {},
   "outputs": [],
   "source": [
    "def addProbAcceptedAnswerToTable(answersTable_provided,questionsTable_provided):\n",
    "    \n",
    "    answersTable=answersTable_provided.copy()\n",
    "    questionsTable=questionsTable_provided.copy()\n",
    "    answersTable=answersTable.sort_values([' OwnerUserId',' CreationDate']) #order by user and then by creation date\n",
    "    questionsTable=questionsTable.sort_values([' OwnerUserId',' CreationDate']) #order by user and then by creation date\n",
    "    \n",
    "    #Find answers that were accepted (note that this information is in questions table)\n",
    "    accepted=pd.match(answersTable[\"Id\"].tolist(),questionsTable[' AcceptedAnswerId'])\n",
    "    \n",
    "    #Update answersTable with infor regarding whether answer was the accepted one or not.\n",
    "    answersTable[\"AcceptedAnswer\"]=accepted\n",
    "    answersTable['AcceptedAnswer'] = np.where(answersTable['AcceptedAnswer'] == -1,0, answersTable['AcceptedAnswer'])\n",
    "    answersTable['AcceptedAnswer'] = np.where(answersTable['AcceptedAnswer'] != 0,1, answersTable['AcceptedAnswer'])\n",
    "    \n",
    "    #Compute cumulative sum of accepted answers so far.\n",
    "    answersTable['CumSumAccepted'] = answersTable.groupby(' OwnerUserId')['AcceptedAnswer'].cumsum()\n",
    "\n",
    "    #Compute number of questions answered so far.\n",
    "    answersTable['CumSumQuestions'] = answersTable.groupby(' OwnerUserId').cumcount() + 1\n",
    "\n",
    "    #Compute prob of accepted answer\n",
    "    answersTable['ProbAccAnswer'] = answersTable['CumSumAccepted']/answersTable['CumSumQuestions']\n",
    "    \n",
    "    return(answersTable)\n",
    " "
   ]
  },
  {
   "cell_type": "code",
   "execution_count": 5,
   "metadata": {},
   "outputs": [
    {
     "name": "stderr",
     "output_type": "stream",
     "text": [
      "C:\\Users\\baren\\Anaconda3\\lib\\site-packages\\ipykernel_launcher.py:9: FutureWarning: pd.match() is deprecated and will be removed in a future version\n",
      "  if __name__ == '__main__':\n"
     ]
    }
   ],
   "source": [
    "#Compute probabilities of answer getting accepted for R, JAVA and Python\n",
    "RanswersTable = addProbAcceptedAnswerToTable(RanswersTable,RquestionsTable)\n",
    "JAVAanswersTable = addProbAcceptedAnswerToTable(JAVAanswersTable,JAVAquestionsTable)\n",
    "PYTanswersTable = addProbAcceptedAnswerToTable(PYTanswersTable,PYTquestionsTable)\n",
    "\n",
    "#Make sure that questions table is also sorted\n",
    "RquestionsTable=RquestionsTable.sort_values([' OwnerUserId',' CreationDate']) #order by user and then by creation date\n",
    "JAVAquestionsTable=JAVAquestionsTable.sort_values([' OwnerUserId',' CreationDate']) #order by user and then by creation date\n",
    "PYTquestionsTable = PYTquestionsTable.sort_values([' OwnerUserId',' CreationDate']) #order by user and then by creation date"
   ]
  },
  {
   "cell_type": "markdown",
   "metadata": {},
   "source": [
    "## Task2 - Identify First Activity for each User"
   ]
  },
  {
   "cell_type": "code",
   "execution_count": 6,
   "metadata": {},
   "outputs": [],
   "source": [
    "def formatCreationDateColumn(table_provided):\n",
    "    table = table_provided.copy()\n",
    "    \n",
    "   \n",
    "    #Correcting format of dates in the table\n",
    "    table[' CreationDate']=pd.to_datetime(table[' CreationDate'],errors=\"coerce\")\n",
    "    \n",
    "    #remove lines which could not be formatted to correct date format\n",
    "    table=table.loc[~table[\" CreationDate\"].isnull()]\n",
    "    \n",
    "    return(table)"
   ]
  },
  {
   "cell_type": "code",
   "execution_count": 7,
   "metadata": {},
   "outputs": [],
   "source": [
    "RanswersTable = formatCreationDateColumn(RanswersTable)\n",
    "JAVAanswersTable = formatCreationDateColumn(JAVAanswersTable)\n",
    "PYTanswersTable = formatCreationDateColumn(PYTanswersTable)\n",
    "\n",
    "RquestionsTable = formatCreationDateColumn(RquestionsTable)\n",
    "JAVAquestionsTable = formatCreationDateColumn(JAVAquestionsTable)\n",
    "PYTquestionsTable = formatCreationDateColumn(PYTquestionsTable)"
   ]
  },
  {
   "cell_type": "code",
   "execution_count": 8,
   "metadata": {},
   "outputs": [],
   "source": [
    "def gettingTableUserFirstActivity(answersTable_provided,questionsTable_provided):\n",
    "    answersTable = answersTable_provided.copy()\n",
    "    questionsTable = questionsTable_provided.copy()\n",
    "    \n",
    "    #\"Normalization\": 0 should correspond to time of first activity so that time is read as days after first activity\n",
    "    #identify the first activity of users\n",
    "    answersTable[\"FirstActivity\"]=~answersTable[\" OwnerUserId\"].duplicated()\n",
    "    questionsTable[\"FirstActivity\"]=~questionsTable[\" OwnerUserId\"].duplicated()\n",
    "    \n",
    "    #obtaining first answer and first question of a user\n",
    "    firstAnswers=answersTable.loc[answersTable[\"FirstActivity\"]==True][[\" OwnerUserId\",\" CreationDate\"]]\n",
    "    firstQuestions = questionsTable.loc[questionsTable[\"FirstActivity\"]==True][[\" OwnerUserId\",\" CreationDate\"]]\n",
    "    \n",
    "    #and merge them into one table\n",
    "    firstActTable=firstQuestions.merge(firstAnswers, left_on=\" OwnerUserId\", right_on=\" OwnerUserId\", how='outer')\n",
    "    firstActTable.columns = [\" OwnerUserId\",\"FirstQuestion\",\"FirstAnswer\"]\n",
    "    \n",
    "    #obtain first activity (either answer or question)\n",
    "    firstActTable[\"FirstActivity\"]=firstActTable[[\"FirstQuestion\",\"FirstAnswer\"]].min(axis=1)\n",
    "    \n",
    "    return(firstActTable)"
   ]
  },
  {
   "cell_type": "code",
   "execution_count": 9,
   "metadata": {},
   "outputs": [],
   "source": [
    "RfirstActTable = gettingTableUserFirstActivity(RanswersTable,RquestionsTable)\n",
    "JAVAfirstActTable = gettingTableUserFirstActivity(JAVAanswersTable,JAVAquestionsTable)\n",
    "PYTfirstActTable = gettingTableUserFirstActivity(PYTanswersTable,PYTquestionsTable)"
   ]
  },
  {
   "cell_type": "code",
   "execution_count": 10,
   "metadata": {},
   "outputs": [
    {
     "data": {
      "text/html": [
       "<div>\n",
       "<style scoped>\n",
       "    .dataframe tbody tr th:only-of-type {\n",
       "        vertical-align: middle;\n",
       "    }\n",
       "\n",
       "    .dataframe tbody tr th {\n",
       "        vertical-align: top;\n",
       "    }\n",
       "\n",
       "    .dataframe thead th {\n",
       "        text-align: right;\n",
       "    }\n",
       "</style>\n",
       "<table border=\"1\" class=\"dataframe\">\n",
       "  <thead>\n",
       "    <tr style=\"text-align: right;\">\n",
       "      <th></th>\n",
       "      <th>OwnerUserId</th>\n",
       "      <th>FirstQuestion</th>\n",
       "      <th>FirstAnswer</th>\n",
       "      <th>FirstActivity</th>\n",
       "    </tr>\n",
       "  </thead>\n",
       "  <tbody>\n",
       "    <tr>\n",
       "      <th>0</th>\n",
       "      <td>0</td>\n",
       "      <td>2008-09-17 03:39:16.913</td>\n",
       "      <td>2008-09-17 03:51:30.190</td>\n",
       "      <td>2008-09-17 03:39:16.913</td>\n",
       "    </tr>\n",
       "    <tr>\n",
       "      <th>1</th>\n",
       "      <td>277</td>\n",
       "      <td>2008-09-24 13:31:07.500</td>\n",
       "      <td>2011-01-18 17:53:30.627</td>\n",
       "      <td>2008-09-24 13:31:07.500</td>\n",
       "    </tr>\n",
       "    <tr>\n",
       "      <th>2</th>\n",
       "      <td>280</td>\n",
       "      <td>2009-12-11 01:18:47.903</td>\n",
       "      <td>NaT</td>\n",
       "      <td>2009-12-11 01:18:47.903</td>\n",
       "    </tr>\n",
       "    <tr>\n",
       "      <th>3</th>\n",
       "      <td>337</td>\n",
       "      <td>2014-10-16 17:33:39.987</td>\n",
       "      <td>2014-08-19 19:58:00.707</td>\n",
       "      <td>2014-08-19 19:58:00.707</td>\n",
       "    </tr>\n",
       "    <tr>\n",
       "      <th>4</th>\n",
       "      <td>357</td>\n",
       "      <td>2016-03-04 15:00:16.023</td>\n",
       "      <td>NaT</td>\n",
       "      <td>2016-03-04 15:00:16.023</td>\n",
       "    </tr>\n",
       "    <tr>\n",
       "      <th>5</th>\n",
       "      <td>404</td>\n",
       "      <td>2010-01-23 00:30:05.610</td>\n",
       "      <td>NaT</td>\n",
       "      <td>2010-01-23 00:30:05.610</td>\n",
       "    </tr>\n",
       "    <tr>\n",
       "      <th>6</th>\n",
       "      <td>422</td>\n",
       "      <td>2009-05-18 08:16:10.573</td>\n",
       "      <td>NaT</td>\n",
       "      <td>2009-05-18 08:16:10.573</td>\n",
       "    </tr>\n",
       "    <tr>\n",
       "      <th>7</th>\n",
       "      <td>445</td>\n",
       "      <td>2009-01-31 14:50:28.677</td>\n",
       "      <td>2009-02-04 15:12:59.503</td>\n",
       "      <td>2009-01-31 14:50:28.677</td>\n",
       "    </tr>\n",
       "    <tr>\n",
       "      <th>8</th>\n",
       "      <td>572</td>\n",
       "      <td>2009-01-07 13:27:28.407</td>\n",
       "      <td>NaT</td>\n",
       "      <td>2009-01-07 13:27:28.407</td>\n",
       "    </tr>\n",
       "    <tr>\n",
       "      <th>9</th>\n",
       "      <td>681</td>\n",
       "      <td>2012-04-06 21:21:34.377</td>\n",
       "      <td>2012-10-01 22:57:01.570</td>\n",
       "      <td>2012-04-06 21:21:34.377</td>\n",
       "    </tr>\n",
       "    <tr>\n",
       "      <th>10</th>\n",
       "      <td>688</td>\n",
       "      <td>2012-03-21 04:24:25.097</td>\n",
       "      <td>NaT</td>\n",
       "      <td>2012-03-21 04:24:25.097</td>\n",
       "    </tr>\n",
       "    <tr>\n",
       "      <th>11</th>\n",
       "      <td>740</td>\n",
       "      <td>2016-02-20 17:09:41.037</td>\n",
       "      <td>NaT</td>\n",
       "      <td>2016-02-20 17:09:41.037</td>\n",
       "    </tr>\n",
       "    <tr>\n",
       "      <th>12</th>\n",
       "      <td>742</td>\n",
       "      <td>2010-04-12 02:48:08.180</td>\n",
       "      <td>NaT</td>\n",
       "      <td>2010-04-12 02:48:08.180</td>\n",
       "    </tr>\n",
       "    <tr>\n",
       "      <th>13</th>\n",
       "      <td>745</td>\n",
       "      <td>2012-07-17 19:04:36.193</td>\n",
       "      <td>NaT</td>\n",
       "      <td>2012-07-17 19:04:36.193</td>\n",
       "    </tr>\n",
       "    <tr>\n",
       "      <th>14</th>\n",
       "      <td>807</td>\n",
       "      <td>2010-12-21 21:27:19.230</td>\n",
       "      <td>NaT</td>\n",
       "      <td>2010-12-21 21:27:19.230</td>\n",
       "    </tr>\n",
       "    <tr>\n",
       "      <th>15</th>\n",
       "      <td>1185</td>\n",
       "      <td>2011-06-16 14:04:02.413</td>\n",
       "      <td>2017-04-10 03:03:59.140</td>\n",
       "      <td>2011-06-16 14:04:02.413</td>\n",
       "    </tr>\n",
       "    <tr>\n",
       "      <th>16</th>\n",
       "      <td>1343</td>\n",
       "      <td>2010-09-26 15:46:14.717</td>\n",
       "      <td>NaT</td>\n",
       "      <td>2010-09-26 15:46:14.717</td>\n",
       "    </tr>\n",
       "    <tr>\n",
       "      <th>17</th>\n",
       "      <td>1428</td>\n",
       "      <td>2011-03-04 10:44:51.460</td>\n",
       "      <td>2008-09-17 13:32:45.113</td>\n",
       "      <td>2008-09-17 13:32:45.113</td>\n",
       "    </tr>\n",
       "    <tr>\n",
       "      <th>18</th>\n",
       "      <td>1432</td>\n",
       "      <td>2010-03-17 15:15:43.393</td>\n",
       "      <td>NaT</td>\n",
       "      <td>2010-03-17 15:15:43.393</td>\n",
       "    </tr>\n",
       "    <tr>\n",
       "      <th>19</th>\n",
       "      <td>1447</td>\n",
       "      <td>2009-03-16 20:59:36.223</td>\n",
       "      <td>2008-09-19 15:07:01.303</td>\n",
       "      <td>2008-09-19 15:07:01.303</td>\n",
       "    </tr>\n",
       "    <tr>\n",
       "      <th>20</th>\n",
       "      <td>1702</td>\n",
       "      <td>2012-04-15 13:56:15.743</td>\n",
       "      <td>2009-01-07 13:51:49.527</td>\n",
       "      <td>2009-01-07 13:51:49.527</td>\n",
       "    </tr>\n",
       "    <tr>\n",
       "      <th>21</th>\n",
       "      <td>1811</td>\n",
       "      <td>2009-05-13 02:34:55.167</td>\n",
       "      <td>NaT</td>\n",
       "      <td>2009-05-13 02:34:55.167</td>\n",
       "    </tr>\n",
       "    <tr>\n",
       "      <th>22</th>\n",
       "      <td>1912</td>\n",
       "      <td>2011-04-05 21:27:35.117</td>\n",
       "      <td>2013-12-10 11:26:38.657</td>\n",
       "      <td>2011-04-05 21:27:35.117</td>\n",
       "    </tr>\n",
       "    <tr>\n",
       "      <th>23</th>\n",
       "      <td>1968</td>\n",
       "      <td>2012-08-31 12:01:05.227</td>\n",
       "      <td>2010-11-08 16:42:48.927</td>\n",
       "      <td>2010-11-08 16:42:48.927</td>\n",
       "    </tr>\n",
       "    <tr>\n",
       "      <th>24</th>\n",
       "      <td>2056</td>\n",
       "      <td>2009-02-15 16:05:33.630</td>\n",
       "      <td>NaT</td>\n",
       "      <td>2009-02-15 16:05:33.630</td>\n",
       "    </tr>\n",
       "    <tr>\n",
       "      <th>25</th>\n",
       "      <td>2118</td>\n",
       "      <td>2016-01-12 22:01:18.153</td>\n",
       "      <td>NaT</td>\n",
       "      <td>2016-01-12 22:01:18.153</td>\n",
       "    </tr>\n",
       "    <tr>\n",
       "      <th>26</th>\n",
       "      <td>2136</td>\n",
       "      <td>2015-01-22 05:10:19.937</td>\n",
       "      <td>NaT</td>\n",
       "      <td>2015-01-22 05:10:19.937</td>\n",
       "    </tr>\n",
       "    <tr>\n",
       "      <th>27</th>\n",
       "      <td>2147</td>\n",
       "      <td>2010-02-04 14:42:28.630</td>\n",
       "      <td>NaT</td>\n",
       "      <td>2010-02-04 14:42:28.630</td>\n",
       "    </tr>\n",
       "    <tr>\n",
       "      <th>28</th>\n",
       "      <td>2173</td>\n",
       "      <td>2008-12-11 14:02:06.167</td>\n",
       "      <td>NaT</td>\n",
       "      <td>2008-12-11 14:02:06.167</td>\n",
       "    </tr>\n",
       "    <tr>\n",
       "      <th>29</th>\n",
       "      <td>2177</td>\n",
       "      <td>2015-04-02 16:50:36.280</td>\n",
       "      <td>NaT</td>\n",
       "      <td>2015-04-02 16:50:36.280</td>\n",
       "    </tr>\n",
       "    <tr>\n",
       "      <th>...</th>\n",
       "      <td>...</td>\n",
       "      <td>...</td>\n",
       "      <td>...</td>\n",
       "      <td>...</td>\n",
       "    </tr>\n",
       "    <tr>\n",
       "      <th>85569</th>\n",
       "      <td>9443290</td>\n",
       "      <td>NaT</td>\n",
       "      <td>2018-03-07 03:00:12.677</td>\n",
       "      <td>2018-03-07 03:00:12.677</td>\n",
       "    </tr>\n",
       "    <tr>\n",
       "      <th>85570</th>\n",
       "      <td>9443881</td>\n",
       "      <td>NaT</td>\n",
       "      <td>2018-03-05 04:09:42.953</td>\n",
       "      <td>2018-03-05 04:09:42.953</td>\n",
       "    </tr>\n",
       "    <tr>\n",
       "      <th>85571</th>\n",
       "      <td>9446567</td>\n",
       "      <td>NaT</td>\n",
       "      <td>2018-03-05 15:54:59.397</td>\n",
       "      <td>2018-03-05 15:54:59.397</td>\n",
       "    </tr>\n",
       "    <tr>\n",
       "      <th>85572</th>\n",
       "      <td>9447252</td>\n",
       "      <td>NaT</td>\n",
       "      <td>2018-03-05 17:52:27.653</td>\n",
       "      <td>2018-03-05 17:52:27.653</td>\n",
       "    </tr>\n",
       "    <tr>\n",
       "      <th>85573</th>\n",
       "      <td>9448382</td>\n",
       "      <td>NaT</td>\n",
       "      <td>2018-03-05 23:06:10.763</td>\n",
       "      <td>2018-03-05 23:06:10.763</td>\n",
       "    </tr>\n",
       "    <tr>\n",
       "      <th>85574</th>\n",
       "      <td>9448870</td>\n",
       "      <td>NaT</td>\n",
       "      <td>2018-03-06 03:20:40.413</td>\n",
       "      <td>2018-03-06 03:20:40.413</td>\n",
       "    </tr>\n",
       "    <tr>\n",
       "      <th>85575</th>\n",
       "      <td>9449398</td>\n",
       "      <td>NaT</td>\n",
       "      <td>2018-03-06 05:33:53.533</td>\n",
       "      <td>2018-03-06 05:33:53.533</td>\n",
       "    </tr>\n",
       "    <tr>\n",
       "      <th>85576</th>\n",
       "      <td>9450354</td>\n",
       "      <td>NaT</td>\n",
       "      <td>2018-03-08 09:47:35.363</td>\n",
       "      <td>2018-03-08 09:47:35.363</td>\n",
       "    </tr>\n",
       "    <tr>\n",
       "      <th>85577</th>\n",
       "      <td>9450959</td>\n",
       "      <td>NaT</td>\n",
       "      <td>2018-03-06 21:35:08.517</td>\n",
       "      <td>2018-03-06 21:35:08.517</td>\n",
       "    </tr>\n",
       "    <tr>\n",
       "      <th>85578</th>\n",
       "      <td>9452623</td>\n",
       "      <td>NaT</td>\n",
       "      <td>2018-03-06 17:26:41.573</td>\n",
       "      <td>2018-03-06 17:26:41.573</td>\n",
       "    </tr>\n",
       "    <tr>\n",
       "      <th>85579</th>\n",
       "      <td>9453765</td>\n",
       "      <td>NaT</td>\n",
       "      <td>2018-03-06 22:47:14.420</td>\n",
       "      <td>2018-03-06 22:47:14.420</td>\n",
       "    </tr>\n",
       "    <tr>\n",
       "      <th>85580</th>\n",
       "      <td>9456025</td>\n",
       "      <td>NaT</td>\n",
       "      <td>2018-03-07 23:48:49.213</td>\n",
       "      <td>2018-03-07 23:48:49.213</td>\n",
       "    </tr>\n",
       "    <tr>\n",
       "      <th>85581</th>\n",
       "      <td>9457207</td>\n",
       "      <td>NaT</td>\n",
       "      <td>2018-03-07 14:18:50.473</td>\n",
       "      <td>2018-03-07 14:18:50.473</td>\n",
       "    </tr>\n",
       "    <tr>\n",
       "      <th>85582</th>\n",
       "      <td>9457283</td>\n",
       "      <td>NaT</td>\n",
       "      <td>2018-03-07 14:57:28.107</td>\n",
       "      <td>2018-03-07 14:57:28.107</td>\n",
       "    </tr>\n",
       "    <tr>\n",
       "      <th>85583</th>\n",
       "      <td>9457592</td>\n",
       "      <td>NaT</td>\n",
       "      <td>2018-03-07 15:35:00.460</td>\n",
       "      <td>2018-03-07 15:35:00.460</td>\n",
       "    </tr>\n",
       "    <tr>\n",
       "      <th>85584</th>\n",
       "      <td>9457764</td>\n",
       "      <td>NaT</td>\n",
       "      <td>2018-03-07 16:07:37.257</td>\n",
       "      <td>2018-03-07 16:07:37.257</td>\n",
       "    </tr>\n",
       "    <tr>\n",
       "      <th>85585</th>\n",
       "      <td>9459248</td>\n",
       "      <td>NaT</td>\n",
       "      <td>2018-03-07 22:32:58.113</td>\n",
       "      <td>2018-03-07 22:32:58.113</td>\n",
       "    </tr>\n",
       "    <tr>\n",
       "      <th>85586</th>\n",
       "      <td>9459400</td>\n",
       "      <td>NaT</td>\n",
       "      <td>2018-03-07 23:24:28.570</td>\n",
       "      <td>2018-03-07 23:24:28.570</td>\n",
       "    </tr>\n",
       "    <tr>\n",
       "      <th>85587</th>\n",
       "      <td>9464692</td>\n",
       "      <td>NaT</td>\n",
       "      <td>2018-03-08 23:28:11.533</td>\n",
       "      <td>2018-03-08 23:28:11.533</td>\n",
       "    </tr>\n",
       "    <tr>\n",
       "      <th>85588</th>\n",
       "      <td>9465539</td>\n",
       "      <td>NaT</td>\n",
       "      <td>2018-03-09 03:45:49.943</td>\n",
       "      <td>2018-03-09 03:45:49.943</td>\n",
       "    </tr>\n",
       "    <tr>\n",
       "      <th>85589</th>\n",
       "      <td>9466395</td>\n",
       "      <td>NaT</td>\n",
       "      <td>2018-03-09 08:10:53.320</td>\n",
       "      <td>2018-03-09 08:10:53.320</td>\n",
       "    </tr>\n",
       "    <tr>\n",
       "      <th>85590</th>\n",
       "      <td>9467700</td>\n",
       "      <td>NaT</td>\n",
       "      <td>2018-03-09 13:06:57.210</td>\n",
       "      <td>2018-03-09 13:06:57.210</td>\n",
       "    </tr>\n",
       "    <tr>\n",
       "      <th>85591</th>\n",
       "      <td>9469054</td>\n",
       "      <td>NaT</td>\n",
       "      <td>2018-03-09 18:03:18.707</td>\n",
       "      <td>2018-03-09 18:03:18.707</td>\n",
       "    </tr>\n",
       "    <tr>\n",
       "      <th>85592</th>\n",
       "      <td>9469176</td>\n",
       "      <td>NaT</td>\n",
       "      <td>2018-03-09 18:39:30.703</td>\n",
       "      <td>2018-03-09 18:39:30.703</td>\n",
       "    </tr>\n",
       "    <tr>\n",
       "      <th>85593</th>\n",
       "      <td>9469840</td>\n",
       "      <td>NaT</td>\n",
       "      <td>2018-03-09 21:55:41.423</td>\n",
       "      <td>2018-03-09 21:55:41.423</td>\n",
       "    </tr>\n",
       "    <tr>\n",
       "      <th>85594</th>\n",
       "      <td>9469977</td>\n",
       "      <td>NaT</td>\n",
       "      <td>2018-03-09 22:50:53.123</td>\n",
       "      <td>2018-03-09 22:50:53.123</td>\n",
       "    </tr>\n",
       "    <tr>\n",
       "      <th>85595</th>\n",
       "      <td>9470419</td>\n",
       "      <td>NaT</td>\n",
       "      <td>2018-03-10 02:47:19.880</td>\n",
       "      <td>2018-03-10 02:47:19.880</td>\n",
       "    </tr>\n",
       "    <tr>\n",
       "      <th>85596</th>\n",
       "      <td>9471246</td>\n",
       "      <td>NaT</td>\n",
       "      <td>2018-03-10 08:43:25.650</td>\n",
       "      <td>2018-03-10 08:43:25.650</td>\n",
       "    </tr>\n",
       "    <tr>\n",
       "      <th>85597</th>\n",
       "      <td>9471319</td>\n",
       "      <td>NaT</td>\n",
       "      <td>2018-03-10 09:15:24.103</td>\n",
       "      <td>2018-03-10 09:15:24.103</td>\n",
       "    </tr>\n",
       "    <tr>\n",
       "      <th>85598</th>\n",
       "      <td>9473053</td>\n",
       "      <td>NaT</td>\n",
       "      <td>2018-03-10 19:38:42.257</td>\n",
       "      <td>2018-03-10 19:38:42.257</td>\n",
       "    </tr>\n",
       "  </tbody>\n",
       "</table>\n",
       "<p>85599 rows × 4 columns</p>\n",
       "</div>"
      ],
      "text/plain": [
       "        OwnerUserId           FirstQuestion             FirstAnswer  \\\n",
       "0                 0 2008-09-17 03:39:16.913 2008-09-17 03:51:30.190   \n",
       "1               277 2008-09-24 13:31:07.500 2011-01-18 17:53:30.627   \n",
       "2               280 2009-12-11 01:18:47.903                     NaT   \n",
       "3               337 2014-10-16 17:33:39.987 2014-08-19 19:58:00.707   \n",
       "4               357 2016-03-04 15:00:16.023                     NaT   \n",
       "5               404 2010-01-23 00:30:05.610                     NaT   \n",
       "6               422 2009-05-18 08:16:10.573                     NaT   \n",
       "7               445 2009-01-31 14:50:28.677 2009-02-04 15:12:59.503   \n",
       "8               572 2009-01-07 13:27:28.407                     NaT   \n",
       "9               681 2012-04-06 21:21:34.377 2012-10-01 22:57:01.570   \n",
       "10              688 2012-03-21 04:24:25.097                     NaT   \n",
       "11              740 2016-02-20 17:09:41.037                     NaT   \n",
       "12              742 2010-04-12 02:48:08.180                     NaT   \n",
       "13              745 2012-07-17 19:04:36.193                     NaT   \n",
       "14              807 2010-12-21 21:27:19.230                     NaT   \n",
       "15             1185 2011-06-16 14:04:02.413 2017-04-10 03:03:59.140   \n",
       "16             1343 2010-09-26 15:46:14.717                     NaT   \n",
       "17             1428 2011-03-04 10:44:51.460 2008-09-17 13:32:45.113   \n",
       "18             1432 2010-03-17 15:15:43.393                     NaT   \n",
       "19             1447 2009-03-16 20:59:36.223 2008-09-19 15:07:01.303   \n",
       "20             1702 2012-04-15 13:56:15.743 2009-01-07 13:51:49.527   \n",
       "21             1811 2009-05-13 02:34:55.167                     NaT   \n",
       "22             1912 2011-04-05 21:27:35.117 2013-12-10 11:26:38.657   \n",
       "23             1968 2012-08-31 12:01:05.227 2010-11-08 16:42:48.927   \n",
       "24             2056 2009-02-15 16:05:33.630                     NaT   \n",
       "25             2118 2016-01-12 22:01:18.153                     NaT   \n",
       "26             2136 2015-01-22 05:10:19.937                     NaT   \n",
       "27             2147 2010-02-04 14:42:28.630                     NaT   \n",
       "28             2173 2008-12-11 14:02:06.167                     NaT   \n",
       "29             2177 2015-04-02 16:50:36.280                     NaT   \n",
       "...             ...                     ...                     ...   \n",
       "85569       9443290                     NaT 2018-03-07 03:00:12.677   \n",
       "85570       9443881                     NaT 2018-03-05 04:09:42.953   \n",
       "85571       9446567                     NaT 2018-03-05 15:54:59.397   \n",
       "85572       9447252                     NaT 2018-03-05 17:52:27.653   \n",
       "85573       9448382                     NaT 2018-03-05 23:06:10.763   \n",
       "85574       9448870                     NaT 2018-03-06 03:20:40.413   \n",
       "85575       9449398                     NaT 2018-03-06 05:33:53.533   \n",
       "85576       9450354                     NaT 2018-03-08 09:47:35.363   \n",
       "85577       9450959                     NaT 2018-03-06 21:35:08.517   \n",
       "85578       9452623                     NaT 2018-03-06 17:26:41.573   \n",
       "85579       9453765                     NaT 2018-03-06 22:47:14.420   \n",
       "85580       9456025                     NaT 2018-03-07 23:48:49.213   \n",
       "85581       9457207                     NaT 2018-03-07 14:18:50.473   \n",
       "85582       9457283                     NaT 2018-03-07 14:57:28.107   \n",
       "85583       9457592                     NaT 2018-03-07 15:35:00.460   \n",
       "85584       9457764                     NaT 2018-03-07 16:07:37.257   \n",
       "85585       9459248                     NaT 2018-03-07 22:32:58.113   \n",
       "85586       9459400                     NaT 2018-03-07 23:24:28.570   \n",
       "85587       9464692                     NaT 2018-03-08 23:28:11.533   \n",
       "85588       9465539                     NaT 2018-03-09 03:45:49.943   \n",
       "85589       9466395                     NaT 2018-03-09 08:10:53.320   \n",
       "85590       9467700                     NaT 2018-03-09 13:06:57.210   \n",
       "85591       9469054                     NaT 2018-03-09 18:03:18.707   \n",
       "85592       9469176                     NaT 2018-03-09 18:39:30.703   \n",
       "85593       9469840                     NaT 2018-03-09 21:55:41.423   \n",
       "85594       9469977                     NaT 2018-03-09 22:50:53.123   \n",
       "85595       9470419                     NaT 2018-03-10 02:47:19.880   \n",
       "85596       9471246                     NaT 2018-03-10 08:43:25.650   \n",
       "85597       9471319                     NaT 2018-03-10 09:15:24.103   \n",
       "85598       9473053                     NaT 2018-03-10 19:38:42.257   \n",
       "\n",
       "                FirstActivity  \n",
       "0     2008-09-17 03:39:16.913  \n",
       "1     2008-09-24 13:31:07.500  \n",
       "2     2009-12-11 01:18:47.903  \n",
       "3     2014-08-19 19:58:00.707  \n",
       "4     2016-03-04 15:00:16.023  \n",
       "5     2010-01-23 00:30:05.610  \n",
       "6     2009-05-18 08:16:10.573  \n",
       "7     2009-01-31 14:50:28.677  \n",
       "8     2009-01-07 13:27:28.407  \n",
       "9     2012-04-06 21:21:34.377  \n",
       "10    2012-03-21 04:24:25.097  \n",
       "11    2016-02-20 17:09:41.037  \n",
       "12    2010-04-12 02:48:08.180  \n",
       "13    2012-07-17 19:04:36.193  \n",
       "14    2010-12-21 21:27:19.230  \n",
       "15    2011-06-16 14:04:02.413  \n",
       "16    2010-09-26 15:46:14.717  \n",
       "17    2008-09-17 13:32:45.113  \n",
       "18    2010-03-17 15:15:43.393  \n",
       "19    2008-09-19 15:07:01.303  \n",
       "20    2009-01-07 13:51:49.527  \n",
       "21    2009-05-13 02:34:55.167  \n",
       "22    2011-04-05 21:27:35.117  \n",
       "23    2010-11-08 16:42:48.927  \n",
       "24    2009-02-15 16:05:33.630  \n",
       "25    2016-01-12 22:01:18.153  \n",
       "26    2015-01-22 05:10:19.937  \n",
       "27    2010-02-04 14:42:28.630  \n",
       "28    2008-12-11 14:02:06.167  \n",
       "29    2015-04-02 16:50:36.280  \n",
       "...                       ...  \n",
       "85569 2018-03-07 03:00:12.677  \n",
       "85570 2018-03-05 04:09:42.953  \n",
       "85571 2018-03-05 15:54:59.397  \n",
       "85572 2018-03-05 17:52:27.653  \n",
       "85573 2018-03-05 23:06:10.763  \n",
       "85574 2018-03-06 03:20:40.413  \n",
       "85575 2018-03-06 05:33:53.533  \n",
       "85576 2018-03-08 09:47:35.363  \n",
       "85577 2018-03-06 21:35:08.517  \n",
       "85578 2018-03-06 17:26:41.573  \n",
       "85579 2018-03-06 22:47:14.420  \n",
       "85580 2018-03-07 23:48:49.213  \n",
       "85581 2018-03-07 14:18:50.473  \n",
       "85582 2018-03-07 14:57:28.107  \n",
       "85583 2018-03-07 15:35:00.460  \n",
       "85584 2018-03-07 16:07:37.257  \n",
       "85585 2018-03-07 22:32:58.113  \n",
       "85586 2018-03-07 23:24:28.570  \n",
       "85587 2018-03-08 23:28:11.533  \n",
       "85588 2018-03-09 03:45:49.943  \n",
       "85589 2018-03-09 08:10:53.320  \n",
       "85590 2018-03-09 13:06:57.210  \n",
       "85591 2018-03-09 18:03:18.707  \n",
       "85592 2018-03-09 18:39:30.703  \n",
       "85593 2018-03-09 21:55:41.423  \n",
       "85594 2018-03-09 22:50:53.123  \n",
       "85595 2018-03-10 02:47:19.880  \n",
       "85596 2018-03-10 08:43:25.650  \n",
       "85597 2018-03-10 09:15:24.103  \n",
       "85598 2018-03-10 19:38:42.257  \n",
       "\n",
       "[85599 rows x 4 columns]"
      ]
     },
     "execution_count": 10,
     "metadata": {},
     "output_type": "execute_result"
    }
   ],
   "source": [
    "RfirstActTable"
   ]
  },
  {
   "cell_type": "code",
   "execution_count": null,
   "metadata": {},
   "outputs": [],
   "source": []
  },
  {
   "cell_type": "code",
   "execution_count": null,
   "metadata": {},
   "outputs": [],
   "source": []
  },
  {
   "cell_type": "code",
   "execution_count": null,
   "metadata": {},
   "outputs": [],
   "source": []
  },
  {
   "cell_type": "markdown",
   "metadata": {},
   "source": [
    "## Task 3 Obtain normalized time for x axis"
   ]
  },
  {
   "cell_type": "code",
   "execution_count": 11,
   "metadata": {},
   "outputs": [],
   "source": [
    "def obtainSummaryProbAccAnswer(answersTable,questionsTable,firstActTable):\n",
    "    \n",
    "    #Adding first activity table to answerstable \n",
    "    summaryTableProbAccAnswer = answersTable[[\"Id\",\" OwnerUserId\",\" CreationDate\",\" ParentId\",\"ProbAccAnswer\"]]\n",
    "    summaryTableProbAccAnswer=summaryTableProbAccAnswer.merge(firstActTable,left_on = \" OwnerUserId\",right_on=\" OwnerUserId\")\n",
    "    \n",
    "    #Use first activity to obtain normalized time\n",
    "    summaryTableProbAccAnswer[\"Present\"]= max(summaryTableProbAccAnswer[\" CreationDate\"])\n",
    "    #timestamp of answer compared to first activity of that user\n",
    "    summaryTableProbAccAnswer[\"DifferenceNumerator\"]=(summaryTableProbAccAnswer[\" CreationDate\"]-summaryTableProbAccAnswer[\"FirstActivity\"])\n",
    "    summaryTableProbAccAnswer[\"DifferenceDenominator\"]=(summaryTableProbAccAnswer[\"Present\"]-summaryTableProbAccAnswer[\"FirstActivity\"])\n",
    "    \n",
    "    summaryTableProbAccAnswer.DifferenceNumerator=summaryTableProbAccAnswer.DifferenceNumerator.dt.total_seconds() /(24*3600) # to obtain days with decimals\n",
    "    summaryTableProbAccAnswer.DifferenceDenominator=summaryTableProbAccAnswer.DifferenceDenominator.dt.total_seconds()/(24*3600)\n",
    "    summaryTableProbAccAnswer[\"NormTime\"]=summaryTableProbAccAnswer[\"DifferenceNumerator\"]/summaryTableProbAccAnswer[\"DifferenceDenominator\"]\n",
    "    \n",
    "    return(summaryTableProbAccAnswer)"
   ]
  },
  {
   "cell_type": "code",
   "execution_count": 12,
   "metadata": {},
   "outputs": [],
   "source": [
    "RsummaryTableProbAccAnswer = obtainSummaryProbAccAnswer(RanswersTable,RquestionsTable,RfirstActTable)\n",
    "JAVAsummaryTableProbAccAnswer = obtainSummaryProbAccAnswer(JAVAanswersTable,JAVAquestionsTable,JAVAfirstActTable)\n",
    "PYTsummaryTableProbAccAnswer = obtainSummaryProbAccAnswer(PYTanswersTable,PYTquestionsTable,PYTfirstActTable)"
   ]
  },
  {
   "cell_type": "markdown",
   "metadata": {},
   "source": [
    "## Task3 Remove users with less than 5 answers"
   ]
  },
  {
   "cell_type": "code",
   "execution_count": 13,
   "metadata": {},
   "outputs": [],
   "source": [
    "#Remove users who have less than 5 answers\n",
    "def removeUsersWithFewAnswers(answersTable,summaryTableProbAccAnswer):\n",
    "    nrQuestionsperUser = answersTable[\" OwnerUserId\"].value_counts()\n",
    "    lessthan5users=nrQuestionsperUser[nrQuestionsperUser<5].index\n",
    "    nrUsersBefore=len(list(set(summaryTableProbAccAnswer[\" OwnerUserId\"].tolist())))\n",
    "    filteredTable=summaryTableProbAccAnswer.loc[~summaryTableProbAccAnswer[\" OwnerUserId\"].isin(lessthan5users)]\n",
    "    nrUsersAfter=len(list(set(filteredTable[\" OwnerUserId\"].tolist())))\n",
    "    print(1-nrUsersAfter/nrUsersBefore,\"% of the users were removed.\")\n",
    "    return(filteredTable)"
   ]
  },
  {
   "cell_type": "code",
   "execution_count": 14,
   "metadata": {},
   "outputs": [
    {
     "name": "stdout",
     "output_type": "stream",
     "text": [
      "0.8437442133201654 % of the users were removed.\n"
     ]
    }
   ],
   "source": [
    "RsummaryTableProbAccAnswer = removeUsersWithFewAnswers(RanswersTable,RsummaryTableProbAccAnswer)"
   ]
  },
  {
   "cell_type": "code",
   "execution_count": 15,
   "metadata": {},
   "outputs": [
    {
     "name": "stdout",
     "output_type": "stream",
     "text": [
      "0.8169454999149323 % of the users were removed.\n"
     ]
    }
   ],
   "source": [
    "JAVAsummaryTableProbAccAnswer = removeUsersWithFewAnswers(JAVAanswersTable,JAVAsummaryTableProbAccAnswer)"
   ]
  },
  {
   "cell_type": "code",
   "execution_count": 16,
   "metadata": {},
   "outputs": [
    {
     "name": "stdout",
     "output_type": "stream",
     "text": [
      "0.8319620773003543 % of the users were removed.\n"
     ]
    }
   ],
   "source": [
    "PYTsummaryTableProbAccAnswer = removeUsersWithFewAnswers(PYTanswersTable,PYTsummaryTableProbAccAnswer)"
   ]
  },
  {
   "cell_type": "markdown",
   "metadata": {},
   "source": [
    "## Task4 Prolong data until 0 timepoint, for the cases in which first activity is a question"
   ]
  },
  {
   "cell_type": "code",
   "execution_count": 17,
   "metadata": {},
   "outputs": [],
   "source": [
    "def addZeroTimepoint(summaryTableProbAccAnswer_provided):\n",
    "    summaryTableProbAccAnswer=summaryTableProbAccAnswer_provided.copy()\n",
    "    #Add 0 to time 0\n",
    "    usersWhoHaveZero=list(set(summaryTableProbAccAnswer[\" OwnerUserId\"][summaryTableProbAccAnswer[\"NormTime\"]==0].tolist()))\n",
    "    usersArtificialZero = list(set(summaryTableProbAccAnswer[\" OwnerUserId\"][~summaryTableProbAccAnswer[\" OwnerUserId\"].isin(usersWhoHaveZero)].tolist()))\n",
    "    tempdfArtificialZero = pd.DataFrame(0, index=np.arange(len(usersArtificialZero)), columns=list(summaryTableProbAccAnswer.columns.values))\n",
    "    tempdfArtificialZero[\" OwnerUserId\"]=usersArtificialZero\n",
    "    tempdfArtificialZero[\" OwnerUserId\"]=tempdfArtificialZero[\" OwnerUserId\"].astype(np.int64) # make type correct\n",
    "    summaryTableProbAccAnswer = summaryTableProbAccAnswer.append(tempdfArtificialZero, ignore_index=True)\n",
    "\n",
    "    #reorder again\n",
    "    summaryTableProbAccAnswer=summaryTableProbAccAnswer.sort_values([' OwnerUserId','NormTime']) #order by user\n",
    "    return(summaryTableProbAccAnswer)"
   ]
  },
  {
   "cell_type": "code",
   "execution_count": 18,
   "metadata": {},
   "outputs": [],
   "source": [
    "RsummaryTableProbAccAnswer = addZeroTimepoint(RsummaryTableProbAccAnswer)"
   ]
  },
  {
   "cell_type": "code",
   "execution_count": 19,
   "metadata": {},
   "outputs": [],
   "source": [
    "JAVAsummaryTableProbAccAnswer = addZeroTimepoint(JAVAsummaryTableProbAccAnswer)"
   ]
  },
  {
   "cell_type": "code",
   "execution_count": 20,
   "metadata": {},
   "outputs": [],
   "source": [
    "PYTsummaryTableProbAccAnswer = addZeroTimepoint(PYTsummaryTableProbAccAnswer)"
   ]
  },
  {
   "cell_type": "markdown",
   "metadata": {},
   "source": [
    "## Task 5 Plot Evolution of 6 random users"
   ]
  },
  {
   "cell_type": "code",
   "execution_count": 21,
   "metadata": {},
   "outputs": [],
   "source": [
    "import random\n",
    "def plotEvolutionRandomUsers(summaryTableProbAccAnswer,language):\n",
    "    r_users=summaryTableProbAccAnswer.loc[np.random.choice(summaryTableProbAccAnswer.index, 6)][\" OwnerUserId\"].tolist()\n",
    "    plt.figure(figsize=(12,8))\n",
    "\n",
    "    for i in range(0,6):\n",
    "        user=r_users[i]\n",
    "        plt.subplot(3,2,i+1)\n",
    "        plt.xlabel(\"Days since first activity in \"+language)\n",
    "        plt.ylabel(\"Probability of answer\\ngetting accepted\")\n",
    "        plt.plot(summaryTableProbAccAnswer.loc[summaryTableProbAccAnswer[\" OwnerUserId\"]==user][\"DifferenceNumerator\"].tolist(),summaryTableProbAccAnswer.loc[summaryTableProbAccAnswer[\" OwnerUserId\"]==user][\"ProbAccAnswer\"].tolist())\n",
    "    \n",
    "    plt.tight_layout()\n",
    "    plt.show()"
   ]
  },
  {
   "cell_type": "code",
   "execution_count": 22,
   "metadata": {
    "scrolled": true
   },
   "outputs": [
    {
     "data": {
      "image/png": "[encoded data removed]",
      "text/plain": [
       "<matplotlib.figure.Figure at 0x219b5f67a90>"
      ]
     },
     "metadata": {},
     "output_type": "display_data"
    }
   ],
   "source": [
    "plotEvolutionRandomUsers(RsummaryTableProbAccAnswer,\"R\")"
   ]
  },
  {
   "cell_type": "code",
   "execution_count": 23,
   "metadata": {},
   "outputs": [
    {
     "data": {
      "image/png": "[encoded data removed]",
      "text/plain": [
       "<matplotlib.figure.Figure at 0x219a9cb7048>"
      ]
     },
     "metadata": {},
     "output_type": "display_data"
    }
   ],
   "source": [
    "plotEvolutionRandomUsers(JAVAsummaryTableProbAccAnswer,\"JAVA\")"
   ]
  },
  {
   "cell_type": "code",
   "execution_count": 24,
   "metadata": {
    "scrolled": true
   },
   "outputs": [
    {
     "data": {
      "image/png": "[encoded data removed]",
      "text/plain": [
       "<matplotlib.figure.Figure at 0x219862ef4a8>"
      ]
     },
     "metadata": {},
     "output_type": "display_data"
    }
   ],
   "source": [
    "plotEvolutionRandomUsers(PYTsummaryTableProbAccAnswer,\"Python\")"
   ]
  },
  {
   "cell_type": "markdown",
   "metadata": {},
   "source": [
    "## Task 7 - Aggregation of all individual learning curves into one "
   ]
  },
  {
   "cell_type": "code",
   "execution_count": 25,
   "metadata": {},
   "outputs": [],
   "source": [
    "#Import some modules\n",
    "import numpy as np\n",
    "from scipy.interpolate import interp1d"
   ]
  },
  {
   "cell_type": "code",
   "execution_count": 26,
   "metadata": {},
   "outputs": [],
   "source": [
    "def aggregateIndividualLearningCurves(summaryTableProbAccAnswer,thresExpertise,threshUsers):\n",
    "    #possible timepoints from 0 to the maximum span.\n",
    "    x_all = np.linspace(0, max(summaryTableProbAccAnswer[\"DifferenceDenominator\"]),num=5000, endpoint=True)\n",
    "    \n",
    "    #variable initialization\n",
    "    sumProbs = np.zeros(len(x_all))\n",
    "    nrUsers = np.zeros(len(x_all))\n",
    "    users = list(set(summaryTableProbAccAnswer[\" OwnerUserId\"].tolist()))\n",
    "    total = np.empty((len(x_all),len(users),))\n",
    "    total.fill(np.nan)\n",
    "    consUsers=0 #considered users\n",
    "    i=0\n",
    "    #for each user:\n",
    "    #linear interpolation - already checked that curve shape is similar to the ones obtained individually\n",
    "    for user in users:\n",
    "        xs_user=summaryTableProbAccAnswer[\"DifferenceNumerator\"][summaryTableProbAccAnswer[\" OwnerUserId\"]==user].tolist()\n",
    "        probs_user= summaryTableProbAccAnswer[\"ProbAccAnswer\"][summaryTableProbAccAnswer[\" OwnerUserId\"]==user].tolist()\n",
    "        \n",
    "        #interpolation function for this user\n",
    "        f1 = interp1d(xs_user,probs_user ,'linear')\n",
    "        \n",
    "        # only interpolated values are considered, meaning no extrapolated values\n",
    "        subset_x_all=x_all[x_all<max(xs_user)]\n",
    "        f1_int = f1(subset_x_all)\n",
    "    \n",
    "        \n",
    "        # only users that are considered to achieve expertise will be taken into consideration for computing the learning curve\n",
    "        if (min(probs_user[-5:])>thresExpertise):\n",
    "            consUsers=consUsers+1\n",
    "            total[0:len(subset_x_all),i]=f1_int\n",
    "            #update probability sums at each time point with the interpolated probabilities for this user\n",
    "            sumProbs[0:len(subset_x_all)]=sumProbs[0:len(subset_x_all)]+f1_int\n",
    "            #update nr users \n",
    "            nrUsers[0:len(subset_x_all)] = nrUsers[0:len(subset_x_all)]+1\n",
    "            i=i+1\n",
    "\n",
    "    \n",
    "    #Remove timepoints which have less than a threshold number of users\n",
    "    noUsersPos = np.where(nrUsers>threshUsers)\n",
    "    sumProbs=sumProbs[noUsersPos]\n",
    "    nrUsers=nrUsers[noUsersPos]\n",
    "    x_all=x_all[noUsersPos]\n",
    "    total = total[noUsersPos,:]\n",
    "    probs=sumProbs/nrUsers\n",
    "    \n",
    "    print((len(users)-consUsers)/len(users), \" were not considered\")\n",
    "    print (consUsers, \" were considered in total\")\n",
    "    \n",
    "    return([x_all,probs,total,nrUsers])\n",
    "\n",
    "def plotAvgCurve(x_all,probs,total,nrUsers,language):    \n",
    "    plt.figure()\n",
    "    plt.xlabel(\"Days since first activity in \" + language)\n",
    "    plt.ylabel(\"Probability of answer\\ngetting accepted\")\n",
    "    err=np.sqrt(np.nanvar(total[0],axis=1))/np.sqrt(np.array(nrUsers))\n",
    "    plt.plot(x_all, probs)\n",
    "    plt.fill_between(x_all,probs-err,probs+err,alpha=0.5)\n",
    "    plt.show()\n",
    "    "
   ]
  },
  {
   "cell_type": "code",
   "execution_count": null,
   "metadata": {},
   "outputs": [
    {
     "name": "stdout",
     "output_type": "stream",
     "text": [
      "0.0  were not considered\n",
      "5063  were considered in total\n"
     ]
    },
    {
     "data": {
      "image/png": "[encoded data removed]",
      "text/plain": [
       "<matplotlib.figure.Figure at 0x219e96674e0>"
      ]
     },
     "metadata": {},
     "output_type": "display_data"
    }
   ],
   "source": [
    "#R\n",
    "[Rx_all,Rprobs,Rtotal,RnrUsers]=aggregateIndividualLearningCurves(RsummaryTableProbAccAnswer,-0.1,100)\n",
    "plotAvgCurve(Rx_all,Rprobs,Rtotal,RnrUsers,\"R\")"
   ]
  },
  {
   "cell_type": "code",
   "execution_count": null,
   "metadata": {},
   "outputs": [],
   "source": [
    "#JAVA \n",
    "[Jx_all,Jprobs,Jtotal,JnrUsers]=aggregateIndividualLearningCurves(JAVAsummaryTableProbAccAnswer,-0.1,100)\n",
    "plotAvgCurve(Jx_all,Jprobs,Jtotal,JnrUsers,\"JAVA\")\n"
   ]
  },
  {
   "cell_type": "code",
   "execution_count": null,
   "metadata": {},
   "outputs": [],
   "source": [
    "#Python\n",
    "[Px_all,Pprobs,Ptotal,PnrUsers]=aggregateIndividualLearningCurves(PYTsummaryTableProbAccAnswer,-0.1,100)\n",
    "plotAvgCurve(Px_all,Pprobs,Ptotal,PnrUsers,\"Python\")"
   ]
  },
  {
   "cell_type": "code",
   "execution_count": null,
   "metadata": {},
   "outputs": [],
   "source": [
    "#All curves in the same plot\n",
    "plt.figure()\n",
    "plt.xlabel(\"Days since first activity\")\n",
    "plt.ylabel(\"Probability of answer\\ngetting accepted\")\n",
    "rpl,=plt.plot(Rx_all, Rprobs,label=\"R\")\n",
    "err=np.sqrt(np.nanvar(Rtotal[0],axis=1))/np.sqrt(np.array(RnrUsers))\n",
    "plt.fill_between(Rx_all,Rprobs-err,Rprobs+err,alpha=0.5)\n",
    "\n",
    "jpl,=plt.plot(Jx_all[0:3600], Jprobs[0:3600],label=\"JAVA\")\n",
    "err=np.sqrt(np.nanvar(Jtotal[0],axis=1))/np.sqrt(np.array(JnrUsers))\n",
    "plt.fill_between(Jx_all[0:3600],Jprobs[0:3600]-err[0:3600],Jprobs[0:3600]+err[0:3600],alpha=0.5)\n",
    "ppl,=plt.plot(Px_all[0:3600], Pprobs[0:3600],label=\"Python\")\n",
    "err=np.sqrt(np.nanvar(Ptotal[0],axis=1))/np.sqrt(np.array(PnrUsers))\n",
    "plt.fill_between(Px_all[0:3600],Pprobs[0:3600]-err[0:3600],Pprobs[0:3600]+err[0:3600],alpha=0.5)\n",
    "plt.legend(handles=[rpl,jpl,ppl])\n",
    "plt.show()"
   ]
  },
  {
   "cell_type": "code",
   "execution_count": null,
   "metadata": {},
   "outputs": [],
   "source": [
    "# With normalization\n",
    "def normProbs (probs):\n",
    "    maxProb = np.max(probs)\n",
    "    minProb = np.min(probs)\n",
    "    return (probs-minProb)\n",
    "\n",
    "normRprobs = normProbs(Rprobs)\n",
    "normJprobs = normProbs(Jprobs[0:3600])\n",
    "normPprobs = normProbs(Pprobs[0:3600])"
   ]
  },
  {
   "cell_type": "code",
   "execution_count": null,
   "metadata": {},
   "outputs": [],
   "source": [
    "#All curves in the same plot\n",
    "plt.figure()\n",
    "plt.xlabel(\"Days since first activity\")\n",
    "plt.ylabel(\"Probability of answer\\ngetting accepted\")\n",
    "rpl,=plt.plot(Rx_all, normRprobs,label=\"R\")\n",
    "#err=np.sqrt(np.nanvar(Rtotal[0],axis=1))/np.sqrt(np.array(RnrUsers))\n",
    "#plt.fill_between(Rx_all,Rprobs-err,Rprobs+err,alpha=0.5)\n",
    "\n",
    "jpl,=plt.plot(Jx_all[0:3600], normJprobs,label=\"JAVA\")\n",
    "#err=np.sqrt(np.nanvar(Jtotal[0],axis=1))/np.sqrt(np.array(JnrUsers))\n",
    "#plt.fill_between(Jx_all,Jprobs-err,Jprobs+err,alpha=0.5)\n",
    "ppl,=plt.plot(Px_all[0:3600], normPprobs,label=\"Python\")\n",
    "#err=np.sqrt(np.nanvar(Ptotal[0],axis=1))/np.sqrt(np.array(PnrUsers))\n",
    "#plt.fill_between(Px_all,Pprobs-err,Pprobs+err,alpha=0.5)\n",
    "plt.legend(handles=[rpl,jpl,ppl])\n",
    "plt.show()"
   ]
  },
  {
   "cell_type": "markdown",
   "metadata": {},
   "source": [
    "# Modeling"
   ]
  },
  {
   "cell_type": "code",
   "execution_count": null,
   "metadata": {},
   "outputs": [],
   "source": [
    "import lmfit"
   ]
  },
  {
   "cell_type": "code",
   "execution_count": null,
   "metadata": {},
   "outputs": [],
   "source": [
    "#Models Explored\n",
    "def negExpo(t,S0,M,lbda):\n",
    "    return S0 + (M-S0)*(1-np.exp(-lbda*t))\n",
    "\n",
    "def negExpoModif(t,S0,M,lbda,k):\n",
    "    return S0 + (M-S0)*(1-np.exp(-lbda*t))+k*t\n",
    "\n",
    "def powerLaw (t,b,a,c):\n",
    "    return c+np.power(b*t,a)\n",
    "\n",
    "def logarithmic(t,c,a):\n",
    "    return c+a*np.log(t+1)"
   ]
  },
  {
   "cell_type": "code",
   "execution_count": null,
   "metadata": {},
   "outputs": [],
   "source": [
    "#Model Fitting\n",
    "def modelsFitting(x_all,probs,meth,i_S0,i_M,i_lbd,i_k,i_b,i_a,i_c,i_la,i_lc):\n",
    "    #negExpo\n",
    "    modelNegExpo =lmfit.Model(negExpo,independent_vars=[\"t\"])\n",
    "    resultNegExpo = modelNegExpo.fit(np.array(probs),t=np.array(x_all),S0=i_S0,M=i_M,lbda=i_lbd,method=meth)\n",
    "\n",
    "    #negExpo \n",
    "    modelNegExpoModif =lmfit.Model(negExpoModif,independent_vars=[\"t\"])\n",
    "    resultNegExpoModif = modelNegExpoModif.fit(np.array(probs),t=np.array(x_all),S0=i_S0,M=i_M,lbda=i_lbd,k=i_k,method=meth)\n",
    "\n",
    "    #powerLaw\n",
    "    modelPowerLaw=lmfit.Model(powerLaw,independent_vars=[\"t\"])\n",
    "    resultPowerLaw = modelPowerLaw.fit(np.array(probs),t=np.array(x_all),b=i_b,a=i_a,c=i_c,method=meth,nan_policy='omit')\n",
    "\n",
    "    #logarithmic\n",
    "    modelLog=lmfit.Model(logarithmic,independent_vars=[\"t\"])\n",
    "    resultLog = modelLog.fit(np.array(probs),t=np.array(x_all),a=i_la,c=i_lc,method=meth) \n",
    "\n",
    "    return([resultNegExpo,resultNegExpoModif,resultPowerLaw,resultLog])"
   ]
  },
  {
   "cell_type": "code",
   "execution_count": null,
   "metadata": {},
   "outputs": [],
   "source": [
    "#plotting model - Experiments\n",
    "def plotExperiments(x_all,probs,language,i_S0,i_M,i_lbd,i_k,i_b,i_a,i_c,i_la,i_lc):\n",
    "    plt.figure(figsize=(12,8))\n",
    "    plt.subplot(2,2,1)\n",
    "    plt.plot(x_all,probs)\n",
    "    plt.plot(x_all,negExpo(t=x_all,S0=i_S0,M=i_M,lbda=i_lbd))\n",
    "    plt.title(\"Negative Exponential - \"+language)\n",
    "\n",
    "    plt.subplot(2,2,2)\n",
    "    plt.plot(x_all,probs)\n",
    "    plt.plot(x_all,negExpoModif(t=x_all,S0=i_S0,M=i_M,lbda=i_lbd,k=i_k))\n",
    "    plt.title(\"Negative Exponential Modified - \"+language)\n",
    "\n",
    "    plt.subplot(2,2,3)\n",
    "    plt.plot(x_all,probs)\n",
    "    plt.plot(x_all,powerLaw(t=x_all,b=i_b,a=i_a,c=i_c))\n",
    "    plt.title(\"Power Law - \"+language)\n",
    "\n",
    "    plt.subplot(2,2,4)\n",
    "    plt.plot(x_all,probs)\n",
    "    plt.plot(x_all,logarithmic(t=x_all,a=i_la,c=i_lc))\n",
    "    plt.title(\"Logarithmic - \"+language)\n",
    "    plt.show()\n"
   ]
  },
  {
   "cell_type": "code",
   "execution_count": null,
   "metadata": {},
   "outputs": [],
   "source": [
    "plotExperiments(Rx_all,Rprobs,\"R\",0.15,0.38,0.005,0.000005,0.000000009,.135,.15,.0305,.15)"
   ]
  },
  {
   "cell_type": "code",
   "execution_count": null,
   "metadata": {},
   "outputs": [],
   "source": [
    "#bad fit with all - JAVA\n",
    "plotExperiments(Jx_all,Jprobs,\"JAVA\",0.12,0.27,0.007,0.000001,0.0000000007,.14,.12,.019,.13)"
   ]
  },
  {
   "cell_type": "code",
   "execution_count": null,
   "metadata": {},
   "outputs": [],
   "source": [
    "#bad fit with all, same problem- PYTHON\n",
    "plotExperiments(Px_all,Pprobs,\"Python\",0.16,0.31,0.007,0.000005,0.0000001,.21,.15,.021,.16)"
   ]
  },
  {
   "cell_type": "code",
   "execution_count": null,
   "metadata": {},
   "outputs": [],
   "source": [
    "def plotModelResults (x_all,probs,language,i_S0,i_M,i_lbd,i_k,i_b,i_a,i_c,i_la,i_lc):\n",
    "    #Compare model with data\n",
    "    [resultNegExpo,resultNegExpoModif,resultPowerLaw,resultLog] = modelsFitting(x_all,probs,\"leastsq\",i_S0,i_M,i_lbd,i_k,i_b,i_a,i_c,i_la,i_lc)\n",
    "    # Least Squares Optimization\n",
    "    plt.figure(figsize=(12,8))\n",
    "    plt.subplot(2,2,1)\n",
    "    #plotting model - Negative Exponential\n",
    "    plt.plot(x_all,probs)\n",
    "    plt.plot(x_all,negExpo(t=x_all,**resultNegExpo.values))\n",
    "    plt.title(\"Negative Exponential- \"+language)\n",
    "\n",
    "    plt.subplot(2,2,2)\n",
    "    #plotting model - Negative Exponential Modified\n",
    "    plt.plot(x_all,probs)\n",
    "    plt.plot(x_all,negExpoModif(t=x_all,**resultNegExpoModif.values))\n",
    "    plt.title(\"Negative Exponential Modified- \"+language)\n",
    "\n",
    "    plt.subplot(2,2,3)\n",
    "    #plotting model - PowerLaw\n",
    "    plt.plot(x_all,probs)\n",
    "    plt.plot(x_all,powerLaw(t=x_all,**resultPowerLaw.values))\n",
    "    plt.title(\"Power Law- \"+language)\n",
    "\n",
    "    plt.subplot(2,2,4)\n",
    "    #plotting model - Logarithmic\n",
    "    plt.plot(x_all,probs)\n",
    "    plt.plot(x_all,logarithmic(t=x_all,**resultLog.values))\n",
    "    plt.title(\"Logarithmic- \"+language)\n",
    "    plt.show\n",
    "    \n",
    "    #Print Goodness of fit\n",
    "    #Assess Goodness of fit\n",
    "    print(resultNegExpo.fit_report(min_correl=0.25))\n",
    "    print(resultNegExpoModif.fit_report(min_correl=0.25))\n",
    "    print(resultPowerLaw.fit_report(min_correl=0.25))\n",
    "    print(resultLog.fit_report(min_correl=0.25))"
   ]
  },
  {
   "cell_type": "code",
   "execution_count": null,
   "metadata": {},
   "outputs": [],
   "source": [
    "plotModelResults(Rx_all,Rprobs,\"R\",0.15,0.38,0.005,0.000005,0.000000009,.135,.15,.0305,.15)"
   ]
  },
  {
   "cell_type": "code",
   "execution_count": null,
   "metadata": {
    "scrolled": false
   },
   "outputs": [],
   "source": []
  },
  {
   "cell_type": "code",
   "execution_count": null,
   "metadata": {},
   "outputs": [],
   "source": [
    "plotModelResults(Jx_all[0:3500],Jprobs[0:3500],\"JAVA\",0.12,0.27,0.007,0.000001,0.0000000007,.14,.12,.02,.12)"
   ]
  },
  {
   "cell_type": "code",
   "execution_count": null,
   "metadata": {},
   "outputs": [],
   "source": [
    "plotModelResults(Px_all[0:3500],Pprobs[0:3500],\"Python\",0.16,0.31,0.007,0.000005,0.0000001,.21,.15,.020,.15)"
   ]
  },
  {
   "cell_type": "code",
   "execution_count": null,
   "metadata": {},
   "outputs": [],
   "source": [
    "#All curves in the same plot with modeled parts \n",
    "plt.figure()\n",
    "plt.xlabel(\"Days since first activity\")\n",
    "plt.ylabel(\"Probability of answer\\ngetting accepted\")\n",
    "\n",
    "#R LANGUAGE\n",
    "rpl,=plt.plot(Rx_all, Rprobs,label=\"R\")\n",
    "err=np.sqrt(np.nanvar(Rtotal[0],axis=1))/np.sqrt(np.array(RnrUsers))\n",
    "plt.fill_between(Rx_all,Rprobs-err,Rprobs+err,alpha=0.5)\n",
    "\n",
    "jpl,=plt.plot(Jx_all[0:3600], Jprobs[0:3600],label=\"JAVA\")\n",
    "err=np.sqrt(np.nanvar(Jtotal[0],axis=1))/np.sqrt(np.array(JnrUsers))\n",
    "plt.fill_between(Jx_all[0:3600],Jprobs[0:3600]-err[0:3600],Jprobs[0:3600]+err[0:3600],alpha=0.5)\n",
    "ppl,=plt.plot(Px_all[0:3600], Pprobs[0:3600],label=\"Python\")\n",
    "err=np.sqrt(np.nanvar(Ptotal[0],axis=1))/np.sqrt(np.array(PnrUsers))\n",
    "plt.fill_between(Px_all[0:3600],Pprobs[0:3600]-err[0:3600],Pprobs[0:3600]+err[0:3600],alpha=0.5)\n",
    "\n",
    "model=lmfit.Model(logarithmic,independent_vars=[\"t\"])\n",
    "result = model.fit(np.array(Rprobs),t=np.array(Rx_all),a=.0305,c=.15,method=\"leastsq\") \n",
    "plt.plot(Rx_all,logarithmic(t=Rx_all,**result.values),col=\"k--\")\n",
    "\n",
    "\n",
    "plt.legend(handles=[rpl,jpl,ppl])\n",
    "\n",
    "plt.show()"
   ]
  },
  {
   "cell_type": "code",
   "execution_count": null,
   "metadata": {},
   "outputs": [],
   "source": []
  },
  {
   "cell_type": "code",
   "execution_count": null,
   "metadata": {},
   "outputs": [],
   "source": []
  },
  {
   "cell_type": "code",
   "execution_count": null,
   "metadata": {},
   "outputs": [],
   "source": []
  },
  {
   "cell_type": "code",
   "execution_count": null,
   "metadata": {},
   "outputs": [],
   "source": []
  }
 ],
 "metadata": {
  "kernelspec": {
   "display_name": "Python 3",
   "language": "python",
   "name": "python3"
  },
  "language_info": {
   "codemirror_mode": {
    "name": "ipython",
    "version": 3
   },
   "file_extension": ".py",
   "mimetype": "text/x-python",
   "name": "python",
   "nbconvert_exporter": "python",
   "pygments_lexer": "ipython3",
   "version": "3.6.4"
  }
 },
 "nbformat": 4,
 "nbformat_minor": 2
}
