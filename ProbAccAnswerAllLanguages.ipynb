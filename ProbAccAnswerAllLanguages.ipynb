{
 "cells": [
  {
   "cell_type": "markdown",
   "metadata": {},
   "source": [
    "# Obtaining Learning curves for programming language in Stackoverflow"
   ]
  },
  {
   "cell_type": "code",
   "execution_count": 2,
   "metadata": {},
   "outputs": [],
   "source": [
    "#Import Modules\n",
    "import pandas as pd\n",
    "import numpy as np\n",
    "import matplotlib.pyplot as plt\n",
    "%matplotlib inline"
   ]
  },
  {
   "cell_type": "markdown",
   "metadata": {},
   "source": [
    "## Import Tables"
   ]
  },
  {
   "cell_type": "code",
   "execution_count": 4,
   "metadata": {},
   "outputs": [
    {
     "name": "stderr",
     "output_type": "stream",
     "text": [
      "C:\\Users\\baren\\Anaconda3\\lib\\site-packages\\IPython\\core\\interactiveshell.py:2728: DtypeWarning: Columns (4) have mixed types. Specify dtype option on import or set low_memory=False.\n",
      "  interactivity=interactivity, compiler=compiler, result=result)\n"
     ]
    }
   ],
   "source": [
    "RanswersTable = pd.read_csv(\"r_answers.csv\")\n",
    "RquestionsTable = pd.read_csv(\"r_questions.csv\")\n",
    "JAVAanswersTable = pd.read_csv(\"java_answers.csv\")\n",
    "JAVAquestionsTable = pd.read_csv(\"java_questions.csv\")\n",
    "#PYTanswersTable = pd.read_csv(\"python_answers.csv\")\n",
    "#PYTquestionsTable=pd.read_csv(\"python_questions.csv\")"
   ]
  },
  {
   "cell_type": "markdown",
   "metadata": {},
   "source": [
    "## Task 1 - Compute Probabilities of answers getting accpeted for each users at several time points."
   ]
  },
  {
   "cell_type": "code",
   "execution_count": 5,
   "metadata": {},
   "outputs": [],
   "source": [
    "def addProbAcceptedAnswerToTable(answersTable_provided,questionsTable_provided):\n",
    "    \n",
    "    answersTable=answersTable_provided.copy()\n",
    "    questionsTable=questionsTable_provided.copy()\n",
    "    answersTable=answersTable.sort_values([' OwnerUserId',' CreationDate']) #order by user and then by creation date\n",
    "    questionsTable=questionsTable.sort_values([' OwnerUserId',' CreationDate']) #order by user and then by creation date\n",
    "    \n",
    "    #Find answers that were accepted (note that this information is in questions table)\n",
    "    accepted=pd.match(answersTable[\"Id\"].tolist(),questionsTable[' AcceptedAnswerId'])\n",
    "    \n",
    "    #Update answersTable with infor regarding whether answer was the accepted one or not.\n",
    "    answersTable[\"AcceptedAnswer\"]=accepted\n",
    "    answersTable['AcceptedAnswer'] = np.where(answersTable['AcceptedAnswer'] == -1,0, answersTable['AcceptedAnswer'])\n",
    "    answersTable['AcceptedAnswer'] = np.where(answersTable['AcceptedAnswer'] != 0,1, answersTable['AcceptedAnswer'])\n",
    "    \n",
    "    #Compute cumulative sum of accepted answers so far.\n",
    "    answersTable['CumSumAccepted'] = answersTable.groupby(' OwnerUserId')['AcceptedAnswer'].cumsum()\n",
    "\n",
    "    #Compute number of questions answered so far.\n",
    "    answersTable['CumSumQuestions'] = answersTable.groupby(' OwnerUserId').cumcount() + 1\n",
    "\n",
    "    #Compute prob of accepted answer\n",
    "    answersTable['ProbAccAnswer'] = answersTable['CumSumAccepted']/answersTable['CumSumQuestions']\n",
    "    \n",
    "    return(answersTable)\n",
    " "
   ]
  },
  {
   "cell_type": "code",
   "execution_count": 6,
   "metadata": {},
   "outputs": [
    {
     "name": "stderr",
     "output_type": "stream",
     "text": [
      "C:\\Users\\baren\\Anaconda3\\lib\\site-packages\\ipykernel_launcher.py:9: FutureWarning: pd.match() is deprecated and will be removed in a future version\n",
      "  if __name__ == '__main__':\n"
     ]
    }
   ],
   "source": [
    "#Compute probabilities of answer getting accepted for R, JAVA and Python\n",
    "RanswersTable = addProbAcceptedAnswerToTable(RanswersTable,RquestionsTable)\n",
    "JAVAanswersTable = addProbAcceptedAnswerToTable(JAVAanswersTable,JAVAquestionsTable)\n"
   ]
  },
  {
   "cell_type": "markdown",
   "metadata": {},
   "source": [
    "## Task2 - Identify First Activity for each User"
   ]
  },
  {
   "cell_type": "code",
   "execution_count": null,
   "metadata": {},
   "outputs": [],
   "source": [
    "def gettingTableUserFirstActivity(answersTable,questionsTable):\n",
    "    #\"Normalization\": 0 should correspond to time of first activity so that time is read as days after first activity\n",
    "    #Correcting format of dates in the table\n",
    "    answersTable[' CreationDate']=pd.to_datetime(answersTable[' CreationDate'])\n",
    "    questionsTable[' CreationDate']=pd.to_datetime(questionsTable[' CreationDate'])\n",
    "    \n",
    "    #2 create relativeTime\n",
    "    #2.1 identify the first activity of users\n",
    "    answersTable[\"FirstActivity\"]=~answersTable[\" OwnerUserId\"].duplicated()\n",
    "    questionsTable[\"FirstActivity\"]=~questionsTable[\" OwnerUserId\"].duplicated()\n",
    "    \n",
    "    #obtaining first answer and first question of a user\n",
    "    firstAnswers=answersTable.loc[answersTable[\"FirstActivity\"]==True][[\" OwnerUserId\",\" CreationDate\"]]\n",
    "    firstQuestions = questionsTable.loc[questionsTable[\"FirstActivity\"]==True][[\" OwnerUserId\",\" CreationDate\"]]\n",
    "    \n",
    "    #and merge them into one table\n",
    "    firstActTable=firstQuestions.merge(firstAnswers, left_on=\" OwnerUserId\", right_on=\" OwnerUserId\", how='outer')\n",
    "    firstActTable.columns = [\" OwnerUserId\",\"FirstQuestion\",\"FirstAnswer\"]\n",
    "    \n",
    "    #obtain first activity (either answer or question)\n",
    "    firstActTable[\"FirstActivity\"]=firstActTable[[\"FirstQuestion\",\"FirstAnswer\"]].min(axis=1)\n",
    "    \n",
    "    return(firstActTable)"
   ]
  },
  {
   "cell_type": "code",
   "execution_count": null,
   "metadata": {},
   "outputs": [],
   "source": [
    "RfirstActTable = gettingTableUserFirstActivity(RanswersTable,RquestionsTable)\n",
    "JAVAfirstActTable = gettingTableUserFirstActivity(JAVAanswersTable,JAVAquestionsTable)"
   ]
  },
  {
   "cell_type": "code",
   "execution_count": null,
   "metadata": {},
   "outputs": [],
   "source": [
    "JAVAanswersTable[' CreationDate']=pd.to_datetime(JAVAanswersTable[' CreationDate'],errors=\"coerce\")"
   ]
  },
  {
   "cell_type": "code",
   "execution_count": null,
   "metadata": {},
   "outputs": [],
   "source": [
    "JAVAanswersTable[JAVAanswersTable[\" CreationDate\"].isnull()]"
   ]
  },
  {
   "cell_type": "code",
   "execution_count": null,
   "metadata": {},
   "outputs": [],
   "source": [
    "JAVAquestionsTable[' CreationDate']=pd.to_datetime(JAVAquestionsTable[' CreationDate'],errors=\"coerce\")"
   ]
  },
  {
   "cell_type": "code",
   "execution_count": null,
   "metadata": {},
   "outputs": [],
   "source": []
  }
 ],
 "metadata": {
  "kernelspec": {
   "display_name": "Python 3",
   "language": "python",
   "name": "python3"
  },
  "language_info": {
   "codemirror_mode": {
    "name": "ipython",
    "version": 3
   },
   "file_extension": ".py",
   "mimetype": "text/x-python",
   "name": "python",
   "nbconvert_exporter": "python",
   "pygments_lexer": "ipython3",
   "version": "3.6.4"
  }
 },
 "nbformat": 4,
 "nbformat_minor": 2
}
